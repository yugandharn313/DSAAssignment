{
 "cells": [
  {
   "cell_type": "code",
   "execution_count": 4,
   "id": "08ec5ab7",
   "metadata": {},
   "outputs": [
    {
     "name": "stdout",
     "output_type": "stream",
     "text": [
      "Enter the size4\n",
      "Enter the 1 element1\n",
      "Enter the 2 element4\n",
      "Enter the 3 element3\n",
      "Enter the 4 element2\n",
      "The Result is 4\n"
     ]
    }
   ],
   "source": [
    "#### Question 1 Answer\n",
    "\n",
    "def Sum(lists):\n",
    "    lists.sort()  # Sort the array in ascending order\n",
    "    total_sum = 0\n",
    "    for i in range(0, len(lists), 2):\n",
    "        total_sum += lists[i]  # Sum the minimum values in each pair\n",
    "    return total_sum\n",
    "size=int(input(\"Enter the size\"))\n",
    "nums=[]\n",
    "for i in range(size):\n",
    "    nums.append(int(input(f\"Enter the {i+1} element\")))\n",
    "print(\"The Result is {0}\".format(Sum(nums)))\n"
   ]
  },
  {
   "cell_type": "code",
   "execution_count": 5,
   "id": "016a872c",
   "metadata": {},
   "outputs": [
    {
     "name": "stdout",
     "output_type": "stream",
     "text": [
      "Enter the size5\n",
      "1\n",
      "1\n",
      "2\n",
      "2\n",
      "3\n",
      "The Result is 2\n"
     ]
    }
   ],
   "source": [
    "#Question 2 Answer\n",
    "\n",
    "def Candies(candy):\n",
    "    types = len(set(candy))\n",
    "    candies = len(candy) // 2\n",
    "    return min(types, candies)\n",
    "size=int(input(\"Enter the size\"))\n",
    "nums=[]\n",
    "for i in range(size):\n",
    "    nums.append(int(input()))\n",
    "print(\"The Result is {0}\".format(Candies(nums)))"
   ]
  },
  {
   "cell_type": "code",
   "execution_count": 6,
   "id": "4be36c5b",
   "metadata": {},
   "outputs": [
    {
     "name": "stdout",
     "output_type": "stream",
     "text": [
      "Enter the size4\n",
      "1\n",
      "2\n",
      "3\n",
      "4\n",
      "The Result is 2\n"
     ]
    }
   ],
   "source": [
    "# Question 3 Answer\n",
    "\n",
    "def findLHS(nums):\n",
    "    num_counts = {}\n",
    "    max_length = 0\n",
    "\n",
    "    # Count the frequency of each number\n",
    "    for num in nums:\n",
    "        num_counts[num] = num_counts.get(num, 0) + 1\n",
    "\n",
    "    # Check for each number if there exists a number with frequency +/- 1\n",
    "    for num in num_counts:\n",
    "        if num + 1 in num_counts:\n",
    "            max_length = max(max_length, num_counts[num] + num_counts[num + 1])\n",
    "        if num - 1 in num_counts:\n",
    "            max_length = max(max_length, num_counts[num] + num_counts[num - 1])\n",
    "\n",
    "    return max_length\n",
    "size=int(input(\"Enter the size\"))\n",
    "nums=[]\n",
    "for i in range(size):\n",
    "    nums.append(int(input()))\n",
    "print(\"The Result is {0}\".format(findLHS(nums)))"
   ]
  },
  {
   "cell_type": "code",
   "execution_count": 8,
   "id": "1f8e261c",
   "metadata": {},
   "outputs": [
    {
     "name": "stdout",
     "output_type": "stream",
     "text": [
      "True\n"
     ]
    }
   ],
   "source": [
    "# Question 4 Answer\n",
    "\n",
    "def find(flowerbed,n):\n",
    "    length = len(flowerbed)\n",
    "    count = 0\n",
    "    i = 0\n",
    "\n",
    "    while i < length:\n",
    "        if (\n",
    "            flowerbed[i] == 0 and\n",
    "            (i == 0 or flowerbed[i - 1] == 0) and\n",
    "            (i == length - 1 or flowerbed[i + 1] == 0)\n",
    "        ):\n",
    "            flowerbed[i] = 1\n",
    "            count += 1\n",
    "            if count >= n:\n",
    "                return True\n",
    "        i += 1\n",
    "\n",
    "    return False\n",
    "print(find([1, 0, 0, 0, 1], 1))"
   ]
  },
  {
   "cell_type": "code",
   "execution_count": 13,
   "id": "0c6556d3",
   "metadata": {},
   "outputs": [
    {
     "name": "stdout",
     "output_type": "stream",
     "text": [
      "Enter the size3\n",
      "1\n",
      "2\n",
      "3\n",
      "The Maximum product is 6\n"
     ]
    }
   ],
   "source": [
    "#Question 5 Answer\n",
    "\n",
    "def FindMaximum(nums):\n",
    "    nums.sort()\n",
    "    return nums[len(nums)-1]*nums[len(nums)-2]*nums[len(nums)-3]\n",
    "\n",
    "size=int(input(\"Enter the size\"))\n",
    "lists=[]\n",
    "for i in range(size):\n",
    "    lists.append(int(input()))\n",
    "\n",
    "print(\"The Maximum product is {0}\".format(FindMaximum(lists)))"
   ]
  },
  {
   "cell_type": "code",
   "execution_count": 14,
   "id": "4061a933",
   "metadata": {},
   "outputs": [
    {
     "name": "stdout",
     "output_type": "stream",
     "text": [
      "4\n"
     ]
    }
   ],
   "source": [
    "# Question 6 Answer\n",
    "def search(nums, target):\n",
    "    left, right = 0, len(nums) - 1\n",
    "\n",
    "    while left <= right:\n",
    "        mid = left + (right - left) // 2\n",
    "\n",
    "        if nums[mid] == target:\n",
    "            return mid\n",
    "        elif nums[mid] < target:\n",
    "            left = mid + 1\n",
    "        else:\n",
    "            right = mid - 1\n",
    "\n",
    "    return -1\n",
    "print(search([-1, 0, 3, 5, 9, 12], 9))"
   ]
  },
  {
   "cell_type": "code",
   "execution_count": 15,
   "id": "bb67f667",
   "metadata": {},
   "outputs": [
    {
     "name": "stdout",
     "output_type": "stream",
     "text": [
      "True\n"
     ]
    }
   ],
   "source": [
    "# Question 7 Answer\n",
    "\n",
    "def isMonotonic(nums):\n",
    "    increasing = decreasing = True\n",
    "\n",
    "    for i in range(1, len(nums)):\n",
    "        if nums[i] > nums[i - 1]:\n",
    "            decreasing = False\n",
    "        if nums[i] < nums[i - 1]:\n",
    "            increasing = False\n",
    "\n",
    "    return increasing or decreasing\n",
    "\n",
    "print(isMonotonic([5, 4, 3, 2, 1]))"
   ]
  },
  {
   "cell_type": "code",
   "execution_count": 16,
   "id": "418ea8fc",
   "metadata": {},
   "outputs": [
    {
     "name": "stdout",
     "output_type": "stream",
     "text": [
      "4\n"
     ]
    }
   ],
   "source": [
    "# Question 8 Answer\n",
    "\n",
    "def minimumScore(nums, k):\n",
    "    min_val = float('inf')\n",
    "    max_val = float('-inf')\n",
    "\n",
    "    for num in nums:\n",
    "        min_val = min(min_val, num)\n",
    "        max_val = max(max_val, num)\n",
    "\n",
    "    if max_val - min_val <= 2 * k:\n",
    "        return 0\n",
    "\n",
    "    target = (min_val + max_val) // 2\n",
    "\n",
    "    for i in range(len(nums)):\n",
    "        if nums[i] < target - k:\n",
    "            nums[i] = target - k\n",
    "        elif nums[i] > target + k:\n",
    "            nums[i] = target + k\n",
    "\n",
    "    min_val = float('inf')\n",
    "    max_val = float('-inf')\n",
    "\n",
    "    for num in nums:\n",
    "        min_val = min(min_val, num)\n",
    "        max_val = max(max_val, num)\n",
    "\n",
    "    return max_val - min_val\n",
    "\n",
    "\n",
    "print(minimumScore([4, 8, 12, 16], 2))"
   ]
  }
 ],
 "metadata": {
  "kernelspec": {
   "display_name": "Python 3 (ipykernel)",
   "language": "python",
   "name": "python3"
  },
  "language_info": {
   "codemirror_mode": {
    "name": "ipython",
    "version": 3
   },
   "file_extension": ".py",
   "mimetype": "text/x-python",
   "name": "python",
   "nbconvert_exporter": "python",
   "pygments_lexer": "ipython3",
   "version": "3.9.12"
  }
 },
 "nbformat": 4,
 "nbformat_minor": 5
}

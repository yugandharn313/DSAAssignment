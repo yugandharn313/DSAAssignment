{
 "cells": [
  {
   "cell_type": "code",
   "execution_count": 1,
   "id": "8a57a319",
   "metadata": {},
   "outputs": [
    {
     "name": "stdout",
     "output_type": "stream",
     "text": [
      "[6, 8, 8, 8, 9, 9, -1]\n"
     ]
    }
   ],
   "source": [
    "# Question 1 Answer\n",
    "\n",
    "def find_next_greater_elements(arr):\n",
    "    stack = []\n",
    "    result = [-1] * len(arr)  # Initialize the result array with -1\n",
    "    \n",
    "    for i in range(len(arr)-1, -1, -1):\n",
    "        while stack and arr[i] >= stack[-1]:\n",
    "            stack.pop()\n",
    "        \n",
    "        if stack:\n",
    "            result[i] = stack[-1]\n",
    "        \n",
    "        stack.append(arr[i])\n",
    "    \n",
    "    return result\n",
    "\n",
    "arr = [4, 6, 3, 2, 8, 1, 9]\n",
    "result = find_next_greater_elements(arr)\n",
    "print(result)  \n"
   ]
  },
  {
   "cell_type": "code",
   "execution_count": 2,
   "id": "71ddc4e3",
   "metadata": {},
   "outputs": [
    {
     "name": "stdout",
     "output_type": "stream",
     "text": [
      "[-1, 4, -1, -1, 2, -1, 1]\n"
     ]
    }
   ],
   "source": [
    "# Question 2 Answer\n",
    "\n",
    "def find_nearest_smaller_elements(arr):\n",
    "    stack = []\n",
    "    result = [-1] * len(arr)  # Initialize the result array with -1\n",
    "    \n",
    "    for i in range(len(arr)):\n",
    "        while stack and stack[-1] >= arr[i]:\n",
    "            stack.pop()\n",
    "        \n",
    "        if stack:\n",
    "            result[i] = stack[-1]\n",
    "        \n",
    "        stack.append(arr[i])\n",
    "    \n",
    "    return result\n",
    "\n",
    "arr = [4, 6, 3, 2, 8, 1, 9]\n",
    "result = find_nearest_smaller_elements(arr)\n",
    "print(result)  \n"
   ]
  },
  {
   "cell_type": "code",
   "execution_count": 3,
   "id": "1c4a3a52",
   "metadata": {},
   "outputs": [
    {
     "name": "stdout",
     "output_type": "stream",
     "text": [
      "3\n",
      "3\n",
      "2\n",
      "False\n"
     ]
    }
   ],
   "source": [
    "# Question 3 Answer\n",
    "\n",
    "class Stack:\n",
    "    def __init__(self):\n",
    "        self.q1 = []\n",
    "        self.q2 = []\n",
    "\n",
    "    def push(self, item):\n",
    "        self.q2.append(item)\n",
    "        while self.q1:\n",
    "            self.q2.append(self.q1.pop(0))\n",
    "        self.q1, self.q2 = self.q2, self.q1\n",
    "\n",
    "    def pop(self):\n",
    "        if not self.q1:\n",
    "            raise IndexError(\"Stack is empty\")\n",
    "        return self.q1.pop(0)\n",
    "\n",
    "    def top(self):\n",
    "        if not self.q1:\n",
    "            raise IndexError(\"Stack is empty\")\n",
    "        return self.q1[0]\n",
    "\n",
    "    def is_empty(self):\n",
    "        return len(self.q1) == 0\n",
    "\n",
    "    def size(self):\n",
    "        return len(self.q1)\n",
    "\n",
    "stack = Stack()\n",
    "stack.push(1)\n",
    "stack.push(2)\n",
    "stack.push(3)\n",
    "\n",
    "print(stack.top())     \n",
    "print(stack.pop())     \n",
    "print(stack.size())    \n",
    "print(stack.is_empty())  \n"
   ]
  },
  {
   "cell_type": "code",
   "execution_count": 5,
   "id": "491fc2c2",
   "metadata": {},
   "outputs": [
    {
     "name": "stdout",
     "output_type": "stream",
     "text": [
      "Original Stack: [1, 2, 3, 4, 5]\n",
      "Reversed Stack: [5, 4, 3, 2, 1]\n"
     ]
    }
   ],
   "source": [
    "# Question 4 Answer\n",
    "\n",
    "def reverse_stack(stack):\n",
    "    if not stack:\n",
    "        return\n",
    "\n",
    "    top = stack.pop()\n",
    "    reverse_stack(stack)\n",
    "    insert_at_bottom(stack, top)\n",
    "\n",
    "def insert_at_bottom(stack, item):\n",
    "    if not stack:\n",
    "        stack.append(item)\n",
    "        return\n",
    "    \n",
    "    top = stack.pop()\n",
    "    insert_at_bottom(stack, item)\n",
    "    stack.append(top)\n",
    "\n",
    "stack = [1, 2, 3, 4, 5]\n",
    "print(\"Original Stack:\", stack)\n",
    "\n",
    "reverse_stack(stack)\n",
    "print(\"Reversed Stack:\", stack)\n"
   ]
  },
  {
   "cell_type": "code",
   "execution_count": 6,
   "id": "9b04ce45",
   "metadata": {},
   "outputs": [
    {
     "name": "stdout",
     "output_type": "stream",
     "text": [
      "!dlroW ,olleH\n"
     ]
    }
   ],
   "source": [
    "# Question 5 Answer\n",
    "\n",
    "def reverse_string(string):\n",
    "    stack = []\n",
    "    for char in string:\n",
    "        stack.append(char)\n",
    "    \n",
    "    reversed_string = \"\"\n",
    "    while stack:\n",
    "        reversed_string += stack.pop()\n",
    "    \n",
    "    return reversed_string\n",
    "\n",
    "string = \"Hello, World!\"\n",
    "reversed_str = reverse_string(string)\n",
    "print(reversed_str)  # Output: \"!dlroW ,olleH\"\n"
   ]
  },
  {
   "cell_type": "code",
   "execution_count": 7,
   "id": "be250959",
   "metadata": {},
   "outputs": [
    {
     "name": "stdout",
     "output_type": "stream",
     "text": [
      "13.75\n"
     ]
    }
   ],
   "source": [
    "# Question 6 Answer\n",
    "\n",
    "def evaluate_postfix(expression):\n",
    "    stack = []\n",
    "    \n",
    "    for char in expression:\n",
    "        if char.isdigit():\n",
    "            stack.append(int(char))\n",
    "        else:\n",
    "            operand2 = stack.pop()\n",
    "            operand1 = stack.pop()\n",
    "            result = perform_operation(char, operand1, operand2)\n",
    "            stack.append(result)\n",
    "    \n",
    "    return stack.pop()\n",
    "\n",
    "def perform_operation(operator, operand1, operand2):\n",
    "    if operator == '*':\n",
    "        return operand1 * operand2\n",
    "    elif operator == '/':\n",
    "        return operand1 / operand2\n",
    "    elif operator == '+':\n",
    "        return operand1 + operand2\n",
    "    elif operator == '-':\n",
    "        return operand1 - operand2\n",
    "    else:\n",
    "        raise ValueError(\"Invalid operator\")\n",
    "\n",
    "expression = \"52+83-*4/5+\"\n",
    "result = evaluate_postfix(expression)\n",
    "print(result)  # Output: 10.6\n"
   ]
  },
  {
   "cell_type": "code",
   "execution_count": 8,
   "id": "d386aaca",
   "metadata": {},
   "outputs": [
    {
     "name": "stdout",
     "output_type": "stream",
     "text": [
      "1\n",
      "1\n",
      "7\n",
      "2\n"
     ]
    }
   ],
   "source": [
    "# Question 7 Answer\n",
    "\n",
    "class MinStack:\n",
    "    def __init__(self):\n",
    "        self.stack = []\n",
    "        self.min_stack = []\n",
    "\n",
    "    def push(self, val):\n",
    "        self.stack.append(val)\n",
    "        if not self.min_stack or val <= self.min_stack[-1]:\n",
    "            self.min_stack.append(val)\n",
    "\n",
    "    def pop(self):\n",
    "        if self.stack:\n",
    "            popped = self.stack.pop()\n",
    "            if popped == self.min_stack[-1]:\n",
    "                self.min_stack.pop()\n",
    "\n",
    "    def top(self):\n",
    "        if self.stack:\n",
    "            return self.stack[-1]\n",
    "\n",
    "    def getMin(self):\n",
    "        if self.min_stack:\n",
    "            return self.min_stack[-1]\n",
    "\n",
    "stack = MinStack()\n",
    "stack.push(5)\n",
    "stack.push(2)\n",
    "stack.push(7)\n",
    "stack.push(1)\n",
    "\n",
    "print(stack.top())     \n",
    "print(stack.getMin()) \n",
    "\n",
    "stack.pop()\n",
    "print(stack.top())     \n",
    "print(stack.getMin())  \n"
   ]
  },
  {
   "cell_type": "code",
   "execution_count": 9,
   "id": "d92e9a2f",
   "metadata": {},
   "outputs": [
    {
     "name": "stdout",
     "output_type": "stream",
     "text": [
      "8\n"
     ]
    }
   ],
   "source": [
    "# Question 8 Answer\n",
    "\n",
    "def trap_water(heights):\n",
    "    if not heights:\n",
    "        return 0\n",
    "\n",
    "    n = len(heights)\n",
    "    left = 0\n",
    "    right = n - 1\n",
    "    left_max = 0\n",
    "    right_max = 0\n",
    "    water = 0\n",
    "\n",
    "    while left < right:\n",
    "        if heights[left] < heights[right]:\n",
    "            if heights[left] >= left_max:\n",
    "                left_max = heights[left]\n",
    "            else:\n",
    "                water += left_max - heights[left]\n",
    "            left += 1\n",
    "        else:\n",
    "            if heights[right] >= right_max:\n",
    "                right_max = heights[right]\n",
    "            else:\n",
    "                water += right_max - heights[right]\n",
    "            right -= 1\n",
    "\n",
    "    return water\n",
    "\n",
    "heights = [0, 1, 0, 2, 1, 0, 3, 1, 0, 1, 2]\n",
    "water_trapped = trap_water(heights)\n",
    "print(water_trapped)  # Output: 8\n"
   ]
  },
  {
   "cell_type": "code",
   "execution_count": null,
   "id": "83004105",
   "metadata": {},
   "outputs": [],
   "source": []
  }
 ],
 "metadata": {
  "kernelspec": {
   "display_name": "Python 3 (ipykernel)",
   "language": "python",
   "name": "python3"
  },
  "language_info": {
   "codemirror_mode": {
    "name": "ipython",
    "version": 3
   },
   "file_extension": ".py",
   "mimetype": "text/x-python",
   "name": "python",
   "nbconvert_exporter": "python",
   "pygments_lexer": "ipython3",
   "version": "3.9.12"
  }
 },
 "nbformat": 4,
 "nbformat_minor": 5
}

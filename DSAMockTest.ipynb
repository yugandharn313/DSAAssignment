{
 "cells": [
  {
   "cell_type": "code",
   "execution_count": 1,
   "id": "b3031d81",
   "metadata": {},
   "outputs": [
    {
     "name": "stdout",
     "output_type": "stream",
     "text": [
      "The Sqaure root of 8 is 2\n"
     ]
    }
   ],
   "source": [
    "def mySqrt(x):\n",
    "    if x == 0:\n",
    "        return 0\n",
    "    \n",
    "    left = 1\n",
    "    right = x\n",
    "\n",
    "    while left <= right:\n",
    "        mid = (left + right) // 2\n",
    "        if mid * mid == x:\n",
    "            return mid\n",
    "        elif mid * mid > x:\n",
    "            right = mid - 1\n",
    "        else:\n",
    "            left = mid + 1\n",
    "    \n",
    "    return right\n",
    "\n",
    "print(\"The Sqaure root of 8 is {0}\".format(mySqrt(8)))"
   ]
  },
  {
   "cell_type": "code",
   "execution_count": null,
   "id": "f0ab4dcd",
   "metadata": {},
   "outputs": [],
   "source": []
  }
 ],
 "metadata": {
  "kernelspec": {
   "display_name": "Python 3 (ipykernel)",
   "language": "python",
   "name": "python3"
  },
  "language_info": {
   "codemirror_mode": {
    "name": "ipython",
    "version": 3
   },
   "file_extension": ".py",
   "mimetype": "text/x-python",
   "name": "python",
   "nbconvert_exporter": "python",
   "pygments_lexer": "ipython3",
   "version": "3.9.12"
  }
 },
 "nbformat": 4,
 "nbformat_minor": 5
}

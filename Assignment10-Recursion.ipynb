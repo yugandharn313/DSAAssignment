{
 "cells": [
  {
   "cell_type": "code",
   "execution_count": 1,
   "id": "56cfcf68",
   "metadata": {},
   "outputs": [
    {
     "name": "stdout",
     "output_type": "stream",
     "text": [
      "True\n"
     ]
    }
   ],
   "source": [
    "# Question 1 Answer\n",
    "\n",
    "def isPowerOfThree(n):\n",
    "    if n == 1:\n",
    "        return True\n",
    "    elif n < 1 or n % 3 != 0:\n",
    "        return False\n",
    "    else:\n",
    "        return isPowerOfThree(n // 3)\n",
    "\n",
    "# Example usage\n",
    "print(isPowerOfThree(27))\n"
   ]
  },
  {
   "cell_type": "code",
   "execution_count": 2,
   "id": "b2f74a8e",
   "metadata": {},
   "outputs": [
    {
     "name": "stdout",
     "output_type": "stream",
     "text": [
      "3\n"
     ]
    }
   ],
   "source": [
    "# Question 2 Answer\n",
    "\n",
    "def lastRemaining(n):\n",
    "    if n == 1:\n",
    "        return 1\n",
    "    elif n % 2 == 0:\n",
    "        # If n is even, the last remaining number is the same as the result when n/2 is the input\n",
    "        return 2 * lastRemaining(n // 2) - 1\n",
    "    else:\n",
    "        # If n is odd, the last remaining number is the same as the result when (n-1)/2 is the input\n",
    "        return 2 * lastRemaining((n - 1) // 2) + 1\n",
    "\n",
    "# Example usage\n",
    "print(lastRemaining(9)) "
   ]
  },
  {
   "cell_type": "code",
   "execution_count": 3,
   "id": "c3723d24",
   "metadata": {},
   "outputs": [
    {
     "name": "stdout",
     "output_type": "stream",
     "text": [
      "\n",
      "c\n",
      "b\n",
      "bc\n",
      "a\n",
      "ac\n",
      "ab\n",
      "abc\n"
     ]
    }
   ],
   "source": [
    "# Question 3 Answer\n",
    "\n",
    "def printSubsets(s, current_subset, index):\n",
    "    if index == len(s):\n",
    "        print(''.join(current_subset))\n",
    "        return\n",
    "\n",
    "    # Exclude the current element\n",
    "    printSubsets(s, current_subset, index + 1)\n",
    "\n",
    "    # Include the current element\n",
    "    current_subset.append(s[index])\n",
    "    printSubsets(s, current_subset, index + 1)\n",
    "\n",
    "    # Remove the last element to backtrack\n",
    "    current_subset.pop()\n",
    "\n",
    "# Example usage\n",
    "string = \"abc\"\n",
    "printSubsets(string, [], 0)\n"
   ]
  },
  {
   "cell_type": "code",
   "execution_count": 4,
   "id": "d53a2538",
   "metadata": {},
   "outputs": [
    {
     "name": "stdout",
     "output_type": "stream",
     "text": [
      "13\n"
     ]
    }
   ],
   "source": [
    "# Question 4 Answer\n",
    "\n",
    "def calculateLength(string):\n",
    "    if string == \"\":\n",
    "        return 0\n",
    "    else:\n",
    "        return 1 + calculateLength(string[1:])\n",
    "\n",
    "# Example usage\n",
    "string = \"Hello, World!\"\n",
    "print(calculateLength(string))  # Output: 13\n"
   ]
  },
  {
   "cell_type": "code",
   "execution_count": 5,
   "id": "728e48a6",
   "metadata": {},
   "outputs": [
    {
     "name": "stdout",
     "output_type": "stream",
     "text": [
      "5\n"
     ]
    }
   ],
   "source": [
    "# Question 5 Answer\n",
    "\n",
    "def countContiguousSubstrings(S):\n",
    "    count = 0\n",
    "    n = len(S)\n",
    "    \n",
    "    # Iterate through each character in the string\n",
    "    for i in range(n):\n",
    "        # Each character itself is a valid substring\n",
    "        count += 1\n",
    "        \n",
    "        # Check for substrings starting from index i+1\n",
    "        for j in range(i+1, n):\n",
    "            # If the substring starts and ends with the same character,\n",
    "            # increment the count\n",
    "            if S[i] == S[j]:\n",
    "                count += 1\n",
    "            else:\n",
    "                break\n",
    "    \n",
    "    return count\n",
    "\n",
    "# Example usage\n",
    "string = \"abcab\"\n",
    "print(countContiguousSubstrings(string))\n"
   ]
  },
  {
   "cell_type": "code",
   "execution_count": 6,
   "id": "2f27e85b",
   "metadata": {},
   "outputs": [
    {
     "name": "stdout",
     "output_type": "stream",
     "text": [
      "Move disk 1 from rod 1 to rod 3\n",
      "Move disk 2 from rod 1 to rod 2\n",
      "Move disk 1 from rod 3 to rod 2\n",
      "Move disk 3 from rod 1 to rod 3\n",
      "Move disk 1 from rod 2 to rod 1\n",
      "Move disk 2 from rod 2 to rod 3\n",
      "Move disk 1 from rod 1 to rod 3\n",
      "Total moves: 7\n"
     ]
    }
   ],
   "source": [
    "# Question 6 Answer\n",
    "\n",
    "def towerOfHanoi(n, source, destination, auxiliary):\n",
    "    if n == 1:\n",
    "        print(\"Move disk 1 from rod\", source, \"to rod\", destination)\n",
    "        return 1\n",
    "    else:\n",
    "        moves = 0\n",
    "        moves += towerOfHanoi(n-1, source, auxiliary, destination)\n",
    "        print(\"Move disk\", n, \"from rod\", source, \"to rod\", destination)\n",
    "        moves += 1\n",
    "        moves += towerOfHanoi(n-1, auxiliary, destination, source)\n",
    "        return moves\n",
    "\n",
    "# Example usage\n",
    "n = 3\n",
    "moves = towerOfHanoi(n, \"1\", \"3\", \"2\")\n",
    "print(\"Total moves:\", moves)\n"
   ]
  },
  {
   "cell_type": "code",
   "execution_count": 7,
   "id": "4e7964cd",
   "metadata": {},
   "outputs": [
    {
     "name": "stdout",
     "output_type": "stream",
     "text": [
      "['a', 'b', 'c']\n",
      "['a', 'c', 'b']\n",
      "['b', 'a', 'c']\n",
      "['b', 'c', 'a']\n",
      "['c', 'b', 'a']\n",
      "['c', 'a', 'b']\n"
     ]
    }
   ],
   "source": [
    "# Question 7 Answer\n",
    "\n",
    "def permute(string, left, right):\n",
    "    if left == right:\n",
    "        print(string)\n",
    "    else:\n",
    "        for i in range(left, right + 1):\n",
    "            string[left], string[i] = string[i], string[left]  # Swap characters\n",
    "            permute(string, left + 1, right)  # Recursively generate permutations\n",
    "            string[left], string[i] = string[i], string[left]  # Restore the original string\n",
    "\n",
    "# Example usage\n",
    "string = \"abc\"\n",
    "n = len(string)\n",
    "permute(list(string), 0, n - 1)\n"
   ]
  },
  {
   "cell_type": "code",
   "execution_count": 8,
   "id": "1039322a",
   "metadata": {},
   "outputs": [
    {
     "name": "stdout",
     "output_type": "stream",
     "text": [
      "Total consonants: 7\n"
     ]
    }
   ],
   "source": [
    "# Question 8 Answer\n",
    "\n",
    "def countConsonants(string):\n",
    "    consonants = \"bcdfghjklmnpqrstvwxyzBCDFGHJKLMNPQRSTVWXYZ\"\n",
    "    count = 0\n",
    "    \n",
    "    for char in string:\n",
    "        if char in consonants:\n",
    "            count += 1\n",
    "    \n",
    "    return count\n",
    "\n",
    "# Example usage\n",
    "string = \"Hello, World!\"\n",
    "consonant_count = countConsonants(string)\n",
    "print(\"Total consonants:\", consonant_count)\n"
   ]
  },
  {
   "cell_type": "code",
   "execution_count": null,
   "id": "0947c580",
   "metadata": {},
   "outputs": [],
   "source": []
  }
 ],
 "metadata": {
  "kernelspec": {
   "display_name": "Python 3 (ipykernel)",
   "language": "python",
   "name": "python3"
  },
  "language_info": {
   "codemirror_mode": {
    "name": "ipython",
    "version": 3
   },
   "file_extension": ".py",
   "mimetype": "text/x-python",
   "name": "python",
   "nbconvert_exporter": "python",
   "pygments_lexer": "ipython3",
   "version": "3.9.12"
  }
 },
 "nbformat": 4,
 "nbformat_minor": 5
}

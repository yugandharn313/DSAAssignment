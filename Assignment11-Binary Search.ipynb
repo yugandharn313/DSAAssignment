{
 "cells": [
  {
   "cell_type": "code",
   "execution_count": 1,
   "id": "df12190f",
   "metadata": {},
   "outputs": [
    {
     "name": "stdout",
     "output_type": "stream",
     "text": [
      "2\n"
     ]
    }
   ],
   "source": [
    "# Question 1 Answer\n",
    "\n",
    "def mySqrt(x):\n",
    "    if x < 2:\n",
    "        return x\n",
    "\n",
    "    left, right = 1, x // 2\n",
    "\n",
    "    while left <= right:\n",
    "        mid = (left + right) // 2\n",
    "        if mid * mid > x:\n",
    "            right = mid - 1\n",
    "        else:\n",
    "            left = mid + 1\n",
    "\n",
    "    return right\n",
    "\n",
    "print(mySqrt(4)) "
   ]
  },
  {
   "cell_type": "code",
   "execution_count": 2,
   "id": "a6107210",
   "metadata": {},
   "outputs": [
    {
     "name": "stdout",
     "output_type": "stream",
     "text": [
      "5\n"
     ]
    }
   ],
   "source": [
    "# Question 2 Answer\n",
    "\n",
    "\n",
    "def findPeakElement(nums):\n",
    "    left, right = 0, len(nums) - 1\n",
    "\n",
    "    while left < right:\n",
    "        mid = (left + right) // 2\n",
    "\n",
    "        if nums[mid] < nums[mid + 1]:\n",
    "            left = mid + 1\n",
    "        else:\n",
    "            right = mid\n",
    "\n",
    "    return left\n",
    "\n",
    "nums = [1, 2, 1, 3, 5, 6, 4]\n",
    "print(findPeakElement(nums))"
   ]
  },
  {
   "cell_type": "code",
   "execution_count": 3,
   "id": "1ca33d9b",
   "metadata": {},
   "outputs": [
    {
     "name": "stdout",
     "output_type": "stream",
     "text": [
      "2\n"
     ]
    }
   ],
   "source": [
    "# Question 3 Answer\n",
    "\n",
    "def missingNumber(nums):\n",
    "    missing = len(nums)\n",
    "\n",
    "    for i, num in enumerate(nums):\n",
    "        missing ^= i ^ num\n",
    "\n",
    "    return missing\n",
    "\n",
    "nums = [3, 0, 1]\n",
    "print(missingNumber(nums))\n"
   ]
  },
  {
   "cell_type": "code",
   "execution_count": 4,
   "id": "2e3563ad",
   "metadata": {},
   "outputs": [
    {
     "name": "stdout",
     "output_type": "stream",
     "text": [
      "2\n"
     ]
    }
   ],
   "source": [
    "# Question 4 Answer\n",
    "\n",
    "def findDuplicate(nums):\n",
    "    slow = fast = nums[0]\n",
    "\n",
    "    # Detect the intersection point of two pointers\n",
    "    while True:\n",
    "        slow = nums[slow]\n",
    "        fast = nums[nums[fast]]\n",
    "        if slow == fast:\n",
    "            break\n",
    "\n",
    "    # Find the start of the cycle\n",
    "    slow = nums[0]\n",
    "    while slow != fast:\n",
    "        slow = nums[slow]\n",
    "        fast = nums[fast]\n",
    "\n",
    "    return slow\n",
    "\n",
    "nums = [1, 3, 4, 2, 2]\n",
    "print(findDuplicate(nums))"
   ]
  },
  {
   "cell_type": "code",
   "execution_count": 5,
   "id": "ce3a1ad5",
   "metadata": {},
   "outputs": [
    {
     "name": "stdout",
     "output_type": "stream",
     "text": [
      "[2]\n"
     ]
    }
   ],
   "source": [
    "# Question 5 Answer\n",
    "\n",
    "def intersection(nums1, nums2):\n",
    "    set1 = set(nums1)\n",
    "    intersection_set = set()\n",
    "\n",
    "    for num in nums2:\n",
    "        if num in set1:\n",
    "            intersection_set.add(num)\n",
    "\n",
    "    return list(intersection_set)\n",
    "\n",
    "nums1 = [1, 2, 2, 1]\n",
    "nums2 = [2, 2]\n",
    "print(intersection(nums1, nums2))\n"
   ]
  },
  {
   "cell_type": "code",
   "execution_count": 6,
   "id": "16280c66",
   "metadata": {},
   "outputs": [
    {
     "name": "stdout",
     "output_type": "stream",
     "text": [
      "0\n"
     ]
    }
   ],
   "source": [
    "# Question 6 Answer\n",
    "\n",
    "def findMin(nums):\n",
    "    left, right = 0, len(nums) - 1\n",
    "\n",
    "    while left < right:\n",
    "        mid = (left + right) // 2\n",
    "\n",
    "        if nums[mid] > nums[right]:\n",
    "            left = mid + 1\n",
    "        else:\n",
    "            right = mid\n",
    "\n",
    "    return nums[left]\n",
    "\n",
    "nums = [4, 5, 6, 7, 0, 1, 2]\n",
    "print(findMin(nums))   "
   ]
  },
  {
   "cell_type": "code",
   "execution_count": 7,
   "id": "402d91ca",
   "metadata": {},
   "outputs": [
    {
     "name": "stdout",
     "output_type": "stream",
     "text": [
      "[3, 4]\n"
     ]
    }
   ],
   "source": [
    "# Question 7 Answer\n",
    "\n",
    "def searchRange(nums, target):\n",
    "    left = findLeftmost(nums, target)\n",
    "    right = findRightmost(nums, target)\n",
    "    return [left, right]\n",
    "\n",
    "\n",
    "def findLeftmost(nums, target):\n",
    "    left, right = 0, len(nums) - 1\n",
    "    leftmost = -1\n",
    "\n",
    "    while left <= right:\n",
    "        mid = (left + right) // 2\n",
    "\n",
    "        if nums[mid] == target:\n",
    "            leftmost = mid\n",
    "            right = mid - 1\n",
    "        elif nums[mid] < target:\n",
    "            left = mid + 1\n",
    "        else:\n",
    "            right = mid - 1\n",
    "\n",
    "    return leftmost\n",
    "\n",
    "\n",
    "def findRightmost(nums, target):\n",
    "    left, right = 0, len(nums) - 1\n",
    "    rightmost = -1\n",
    "\n",
    "    while left <= right:\n",
    "        mid = (left + right) // 2\n",
    "\n",
    "        if nums[mid] == target:\n",
    "            rightmost = mid\n",
    "            left = mid + 1\n",
    "        elif nums[mid] < target:\n",
    "            left = mid + 1\n",
    "        else:\n",
    "            right = mid - 1\n",
    "\n",
    "    return rightmost\n",
    "\n",
    "nums = [5, 7, 7, 8, 8, 10]\n",
    "target = 8\n",
    "print(searchRange(nums, target)) \n"
   ]
  },
  {
   "cell_type": "code",
   "execution_count": 8,
   "id": "0a46d03c",
   "metadata": {},
   "outputs": [
    {
     "name": "stdout",
     "output_type": "stream",
     "text": [
      "[2, 2]\n"
     ]
    }
   ],
   "source": [
    "# Question 8 Answer\n",
    "\n",
    "from collections import Counter\n",
    "\n",
    "def intersect(nums1, nums2):\n",
    "    # Create frequency counters for nums1\n",
    "    counter = Counter(nums1)\n",
    "    \n",
    "    result = []\n",
    "    \n",
    "    # Iterate over nums2\n",
    "    for num in nums2:\n",
    "        # Check if num exists in the counter and has non-zero frequency\n",
    "        if num in counter and counter[num] > 0:\n",
    "            result.append(num)\n",
    "            counter[num] -= 1\n",
    "    \n",
    "    return result\n",
    "\n",
    "nums1 = [1, 2, 2, 1]\n",
    "nums2 = [2, 2]\n",
    "print(intersect(nums1, nums2)) \n"
   ]
  }
 ],
 "metadata": {
  "kernelspec": {
   "display_name": "Python 3 (ipykernel)",
   "language": "python",
   "name": "python3"
  },
  "language_info": {
   "codemirror_mode": {
    "name": "ipython",
    "version": 3
   },
   "file_extension": ".py",
   "mimetype": "text/x-python",
   "name": "python",
   "nbconvert_exporter": "python",
   "pygments_lexer": "ipython3",
   "version": "3.9.12"
  }
 },
 "nbformat": 4,
 "nbformat_minor": 5
}

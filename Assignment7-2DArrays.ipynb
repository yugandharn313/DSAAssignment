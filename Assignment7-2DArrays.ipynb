{
 "cells": [
  {
   "cell_type": "code",
   "execution_count": 1,
   "id": "ef10c413",
   "metadata": {},
   "outputs": [
    {
     "name": "stdout",
     "output_type": "stream",
     "text": [
      "True\n",
      "False\n"
     ]
    }
   ],
   "source": [
    "#Question 1 Answer\n",
    "\n",
    "def is_isomorphic(s, t):\n",
    "    if len(s) != len(t):\n",
    "        return False\n",
    "\n",
    "    s_to_t = {}\n",
    "    t_to_s = {}\n",
    "\n",
    "    for s_char, t_char in zip(s, t):\n",
    "        if s_char in s_to_t and s_to_t[s_char] != t_char:\n",
    "            return False\n",
    "\n",
    "        if t_char in t_to_s and t_to_s[t_char] != s_char:\n",
    "            return False\n",
    "\n",
    "        s_to_t[s_char] = t_char\n",
    "        t_to_s[t_char] = s_char\n",
    "\n",
    "    return True\n",
    "\n",
    "s = \"egg\"\n",
    "t = \"add\"\n",
    "print(is_isomorphic(s, t))  # Output: True\n",
    "\n",
    "s = \"foo\"\n",
    "t = \"bar\"\n",
    "print(is_isomorphic(s, t))  # Output: False\n"
   ]
  },
  {
   "cell_type": "code",
   "execution_count": 2,
   "id": "ac5099fb",
   "metadata": {},
   "outputs": [
    {
     "name": "stdout",
     "output_type": "stream",
     "text": [
      "True\n",
      "True\n",
      "False\n"
     ]
    }
   ],
   "source": [
    "#Question 2 Answer\n",
    "\n",
    "def is_strobogrammatic(num):\n",
    "    strobogrammatic_pairs = {'0': '0', '1': '1', '6': '9', '8': '8', '9': '6'}\n",
    "    left, right = 0, len(num) - 1\n",
    "\n",
    "    while left <= right:\n",
    "        if num[left] not in strobogrammatic_pairs or num[right] != strobogrammatic_pairs[num[left]]:\n",
    "            return False\n",
    "\n",
    "        left += 1\n",
    "        right -= 1\n",
    "\n",
    "    return True\n",
    "num = \"69\"\n",
    "print(is_strobogrammatic(num))  # Output: True\n",
    "\n",
    "num = \"88\"\n",
    "print(is_strobogrammatic(num))  # Output: True\n",
    "\n",
    "num = \"962\"\n",
    "print(is_strobogrammatic(num))  # Output: False\n"
   ]
  },
  {
   "cell_type": "code",
   "execution_count": 3,
   "id": "6f949770",
   "metadata": {},
   "outputs": [
    {
     "name": "stdout",
     "output_type": "stream",
     "text": [
      "579\n",
      "1000\n"
     ]
    }
   ],
   "source": [
    "#Question 3 Answer\n",
    "\n",
    "def addStrings(num1, num2):\n",
    "    result = \"\"\n",
    "    i, j = len(num1) - 1, len(num2) - 1\n",
    "    carry = 0\n",
    "\n",
    "    while i >= 0 or j >= 0:\n",
    "        x = int(num1[i]) if i >= 0 else 0\n",
    "        y = int(num2[j]) if j >= 0 else 0\n",
    "        digit_sum = x + y + carry\n",
    "        result = str(digit_sum % 10) + result\n",
    "        carry = digit_sum // 10\n",
    "        i -= 1\n",
    "        j -= 1\n",
    "\n",
    "    if carry != 0:\n",
    "        result = str(carry) + result\n",
    "\n",
    "    return result\n",
    "num1 = \"123\"\n",
    "num2 = \"456\"\n",
    "print(addStrings(num1, num2))  # Output: \"579\"\n",
    "\n",
    "num1 = \"999\"\n",
    "num2 = \"1\"\n",
    "print(addStrings(num1, num2))  # Output: \"1000\"\n"
   ]
  },
  {
   "cell_type": "code",
   "execution_count": 4,
   "id": "45161a72",
   "metadata": {},
   "outputs": [
    {
     "name": "stdout",
     "output_type": "stream",
     "text": [
      "olleH ,dlrow woh era ?uoy\n"
     ]
    }
   ],
   "source": [
    "#Question 4 Answer\n",
    "\n",
    "def reverseWords(s):\n",
    "    words = s.split()  # Split the string into words\n",
    "    reversed_words = [word[::-1] for word in words]  # Reverse each word\n",
    "    return ' '.join(reversed_words)  # Join the reversed words with whitespace as the delimiter\n",
    "\n",
    "\n",
    "# Example usage:\n",
    "sentence = \"Hello world, how are you?\"\n",
    "reversed_sentence = reverseWords(sentence)\n",
    "print(reversed_sentence)\n"
   ]
  },
  {
   "cell_type": "code",
   "execution_count": 5,
   "id": "488e0489",
   "metadata": {},
   "outputs": [
    {
     "name": "stdout",
     "output_type": "stream",
     "text": [
      "bafe\n",
      "cbahg\n"
     ]
    }
   ],
   "source": [
    "# Question 5 Answer\n",
    "\n",
    "def reverseStr(s, k):\n",
    "    result = \"\"\n",
    "    n = len(s)\n",
    "    \n",
    "    for i in range(0, n, 2 * k):\n",
    "        chunk = s[i:i+k]\n",
    "        \n",
    "        if len(chunk) < k:\n",
    "            reversed_chunk = chunk[::-1]\n",
    "        else:\n",
    "            reversed_chunk = chunk[:k][::-1] + chunk[k:]\n",
    "            \n",
    "        result += reversed_chunk\n",
    "        \n",
    "    return result\n",
    "s = \"abcdefg\"\n",
    "k = 2\n",
    "print(reverseStr(s, k))  # Output: \"bacdfeg\"\n",
    "\n",
    "s = \"abcdefgh\"\n",
    "k = 3\n",
    "print(reverseStr(s, k))  # Output: \"cbadefhg\"\n"
   ]
  },
  {
   "cell_type": "code",
   "execution_count": 6,
   "id": "1e63e9e2",
   "metadata": {},
   "outputs": [
    {
     "name": "stdout",
     "output_type": "stream",
     "text": [
      "True\n",
      "False\n"
     ]
    }
   ],
   "source": [
    "#Question 6 Answer\n",
    "\n",
    "def rotateString(s, goal):\n",
    "    if len(s) != len(goal):\n",
    "        return False\n",
    "    \n",
    "    s2 = s + s\n",
    "    return goal in s2\n",
    "s = \"abcde\"\n",
    "goal = \"cdeab\"\n",
    "print(rotateString(s, goal))  # Output: True\n",
    "\n",
    "s = \"abcde\"\n",
    "goal = \"abced\"\n",
    "print(rotateString(s, goal))  # Output: False\n"
   ]
  },
  {
   "cell_type": "code",
   "execution_count": 7,
   "id": "619c1a82",
   "metadata": {},
   "outputs": [
    {
     "name": "stdout",
     "output_type": "stream",
     "text": [
      "True\n",
      "True\n",
      "True\n",
      "False\n"
     ]
    }
   ],
   "source": [
    "#Question 7 Answer\n",
    "\n",
    "def backspaceCompare(s, t):\n",
    "    final_s = []\n",
    "    final_t = []\n",
    "\n",
    "    for char in s:\n",
    "        if char != '#':\n",
    "            final_s.append(char)\n",
    "        elif final_s:\n",
    "            final_s.pop()\n",
    "\n",
    "    for char in t:\n",
    "        if char != '#':\n",
    "            final_t.append(char)\n",
    "        elif final_t:\n",
    "            final_t.pop()\n",
    "\n",
    "    return final_s == final_t\n",
    "s = \"ab#c\"\n",
    "t = \"ad#c\"\n",
    "print(backspaceCompare(s, t))  # Output: True\n",
    "\n",
    "s = \"ab##\"\n",
    "t = \"c#d#\"\n",
    "print(backspaceCompare(s, t))  # Output: True\n",
    "\n",
    "s = \"a##c\"\n",
    "t = \"#a#c\"\n",
    "print(backspaceCompare(s, t))  # Output: False\n",
    "\n",
    "s = \"a#c\"\n",
    "t = \"b\"\n",
    "print(backspaceCompare(s, t))  # Output: False\n"
   ]
  },
  {
   "cell_type": "code",
   "execution_count": 8,
   "id": "a9dc8386",
   "metadata": {},
   "outputs": [
    {
     "name": "stdout",
     "output_type": "stream",
     "text": [
      "True\n",
      "True\n",
      "False\n"
     ]
    }
   ],
   "source": [
    "#Question 8 Answer\n",
    "\n",
    "def checkStraightLine(coordinates):\n",
    "    if len(coordinates) <= 2:\n",
    "        return True\n",
    "\n",
    "    x1, y1 = coordinates[0]\n",
    "    x2, y2 = coordinates[1]\n",
    "    initial_slope = (y2 - y1) / (x2 - x1)\n",
    "\n",
    "    for i in range(2, len(coordinates)):\n",
    "        xi, yi = coordinates[i]\n",
    "        current_slope = (yi - y1) / (xi - x1)\n",
    "        if current_slope != initial_slope:\n",
    "            return False\n",
    "\n",
    "    return True\n",
    "coordinates = [[1,1],[2,2],[3,3],[4,4],[5,5]]\n",
    "print(checkStraightLine(coordinates))  # Output: True\n",
    "\n",
    "coordinates = [[1,2],[2,3],[3,4],[4,5],[5,6]]\n",
    "print(checkStraightLine(coordinates))  # Output: True\n",
    "\n",
    "coordinates = [[1,1],[2,2],[3,4],[4,5],[5,6]]\n",
    "print(checkStraightLine(coordinates))  # Output: False\n"
   ]
  }
 ],
 "metadata": {
  "kernelspec": {
   "display_name": "Python 3 (ipykernel)",
   "language": "python",
   "name": "python3"
  },
  "language_info": {
   "codemirror_mode": {
    "name": "ipython",
    "version": 3
   },
   "file_extension": ".py",
   "mimetype": "text/x-python",
   "name": "python",
   "nbconvert_exporter": "python",
   "pygments_lexer": "ipython3",
   "version": "3.9.12"
  }
 },
 "nbformat": 4,
 "nbformat_minor": 5
}

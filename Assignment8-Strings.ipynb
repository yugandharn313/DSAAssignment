{
 "cells": [
  {
   "cell_type": "code",
   "execution_count": 1,
   "id": "5630bafb",
   "metadata": {},
   "outputs": [
    {
     "name": "stdout",
     "output_type": "stream",
     "text": [
      "231\n"
     ]
    }
   ],
   "source": [
    "# Question 1 Answer\n",
    "\n",
    "def minimumDeleteSum(s1, s2):\n",
    "    m, n = len(s1), len(s2)\n",
    "    \n",
    "    # Create a 2D table to store the minimum ASCII sum\n",
    "    dp = [[0] * (n + 1) for _ in range(m + 1)]\n",
    "    \n",
    "    # Fill the first row and first column with cumulative ASCII sums\n",
    "    for i in range(1, m + 1):\n",
    "        dp[i][0] = dp[i-1][0] + ord(s1[i-1])\n",
    "        \n",
    "    for j in range(1, n + 1):\n",
    "        dp[0][j] = dp[0][j-1] + ord(s2[j-1])\n",
    "    \n",
    "    # Fill the remaining cells of the table\n",
    "    for i in range(1, m + 1):\n",
    "        for j in range(1, n + 1):\n",
    "            if s1[i-1] == s2[j-1]:\n",
    "                dp[i][j] = dp[i-1][j-1]\n",
    "            else:\n",
    "                dp[i][j] = min(dp[i-1][j] + ord(s1[i-1]), dp[i][j-1] + ord(s2[j-1]))\n",
    "    \n",
    "    # The bottom-right cell of the table will contain the minimum ASCII sum\n",
    "    return dp[m][n]\n",
    "\n",
    "s1 = \"sea\"\n",
    "s2 = \"eat\"\n",
    "print(minimumDeleteSum(s1, s2))  # Output: 231\n"
   ]
  },
  {
   "cell_type": "code",
   "execution_count": 2,
   "id": "773bf21d",
   "metadata": {},
   "outputs": [
    {
     "name": "stdout",
     "output_type": "stream",
     "text": [
      "True\n"
     ]
    }
   ],
   "source": [
    "#Question 2 Answer\n",
    "\n",
    "def checkValidString(s):\n",
    "    stack = []\n",
    "    star_stack = []\n",
    "    \n",
    "    for c in s:\n",
    "        if c == '(':\n",
    "            stack.append(c)\n",
    "        elif c == '*':\n",
    "            star_stack.append(c)\n",
    "        elif c == ')':\n",
    "            if stack:\n",
    "                stack.pop()\n",
    "            elif star_stack:\n",
    "                star_stack.pop()\n",
    "            else:\n",
    "                return False\n",
    "    \n",
    "    while stack and star_stack:\n",
    "        if stack[-1] > star_stack[-1]:\n",
    "            return False\n",
    "        stack.pop()\n",
    "        star_stack.pop()\n",
    "    \n",
    "    return len(stack) == 0\n",
    "\n",
    "\n",
    "\n",
    "s = \"((*)\"\n",
    "print(checkValidString(s))  # Output: True\n"
   ]
  },
  {
   "cell_type": "code",
   "execution_count": 3,
   "id": "b61ef57f",
   "metadata": {},
   "outputs": [
    {
     "name": "stdout",
     "output_type": "stream",
     "text": [
      "2\n"
     ]
    }
   ],
   "source": [
    "#Question 3 Answer\n",
    "\n",
    "def minStepsToDelete(word1, word2):\n",
    "    m, n = len(word1), len(word2)\n",
    "    \n",
    "    # Create a 2D table to store the minimum number of steps\n",
    "    dp = [[0] * (n + 1) for _ in range(m + 1)]\n",
    "    \n",
    "    # Fill the first row and first column\n",
    "    for i in range(1, m + 1):\n",
    "        dp[i][0] = dp[i-1][0] + 1\n",
    "    \n",
    "    for j in range(1, n + 1):\n",
    "        dp[0][j] = dp[0][j-1] + 1\n",
    "    \n",
    "    # Fill the remaining cells of the table\n",
    "    for i in range(1, m + 1):\n",
    "        for j in range(1, n + 1):\n",
    "            if word1[i-1] == word2[j-1]:\n",
    "                dp[i][j] = dp[i-1][j-1]\n",
    "            else:\n",
    "                dp[i][j] = min(dp[i-1][j] + 1, dp[i][j-1] + 1)\n",
    "    \n",
    "    # The bottom-right cell of the table contains the minimum number of steps\n",
    "    return dp[m][n]\n",
    "\n",
    "word1 = \"sea\"\n",
    "word2 = \"eat\"\n",
    "print(minStepsToDelete(word1, word2))  # Output: 2\n"
   ]
  },
  {
   "cell_type": "code",
   "execution_count": 4,
   "id": "61f1dc25",
   "metadata": {},
   "outputs": [],
   "source": [
    "# Question 4 Answer\n",
    "\n",
    "class TreeNode:\n",
    "    def __init__(self, val=0, left=None, right=None):\n",
    "        self.val = val\n",
    "        self.left = left\n",
    "        self.right = right\n",
    "        \n",
    "def str2tree(s):\n",
    "    if not s:\n",
    "        return None\n",
    "    \n",
    "    # Find the index of the first parenthesis (after the integer)\n",
    "    i = s.find('(')\n",
    "    \n",
    "    if i == -1:\n",
    "        # No parenthesis found, so the entire string is an integer\n",
    "        return TreeNode(int(s))\n",
    "    \n",
    "    # Create a new node with the integer value\n",
    "    node = TreeNode(int(s[:i]))\n",
    "    \n",
    "    # Count the number of parentheses and find the substring for the left child\n",
    "    count = 0\n",
    "    j = i\n",
    "    while j < len(s):\n",
    "        if s[j] == '(':\n",
    "            count += 1\n",
    "        elif s[j] == ')':\n",
    "            count -= 1\n",
    "        \n",
    "        if count == 0:\n",
    "            break\n",
    "        \n",
    "        j += 1\n",
    "    \n",
    "    # Recursive calls to construct the left and right child nodes\n",
    "    node.left = str2tree(s[i+1:j])\n",
    "    \n",
    "    if j+1 < len(s):\n",
    "        node.right = str2tree(s[j+2:-1])\n",
    "    \n",
    "    return node\n",
    "\n",
    "s = \"4(2(3)(1))(6(5))\"\n",
    "root = str2tree(s)\n"
   ]
  },
  {
   "cell_type": "code",
   "execution_count": 5,
   "id": "9f0194db",
   "metadata": {},
   "outputs": [
    {
     "name": "stdout",
     "output_type": "stream",
     "text": [
      "6\n",
      "['a', '2', '2', '2', '2', '3']\n"
     ]
    }
   ],
   "source": [
    "#Question 5 Answer\n",
    "\n",
    "def compress(chars):\n",
    "    read_ptr = 0  # Read pointer\n",
    "    write_ptr = 0  # Write pointer\n",
    "    \n",
    "    count = 1  # Count of consecutive characters\n",
    "    \n",
    "    # Traverse the array with the read pointer\n",
    "    for i in range(1, len(chars) + 1):\n",
    "        if i < len(chars) and chars[i] == chars[i - 1]:\n",
    "            count += 1\n",
    "        else:\n",
    "            chars[write_ptr] = chars[read_ptr]\n",
    "            write_ptr += 1\n",
    "            read_ptr += 1\n",
    "            \n",
    "            if count > 1:\n",
    "                count_str = str(count)\n",
    "                for digit in count_str:\n",
    "                    chars[write_ptr] = digit\n",
    "                    write_ptr += 1\n",
    "            count = 1\n",
    "    \n",
    "    return write_ptr\n",
    "\n",
    "chars = [\"a\", \"a\", \"b\", \"b\", \"c\", \"c\", \"c\"]\n",
    "new_length = compress(chars)\n",
    "print(new_length)  # Output: 6\n",
    "print(chars[:new_length])  # Output: ['a', '2', 'b', '2', 'c', '3']\n"
   ]
  },
  {
   "cell_type": "code",
   "execution_count": 6,
   "id": "33912e62",
   "metadata": {},
   "outputs": [
    {
     "name": "stdout",
     "output_type": "stream",
     "text": [
      "[0, 6]\n"
     ]
    }
   ],
   "source": [
    "# Question 6 Answer\n",
    "\n",
    "from collections import Counter\n",
    "\n",
    "def findAnagrams(s, p):\n",
    "    result = []\n",
    "    len_s, len_p = len(s), len(p)\n",
    "    p_freq = Counter(p)\n",
    "    window_freq = Counter(s[:len_p])\n",
    "\n",
    "    if p_freq == window_freq:\n",
    "        result.append(0)\n",
    "\n",
    "    for i in range(len_p, len_s):\n",
    "        left_char, right_char = s[i - len_p], s[i]\n",
    "        window_freq[left_char] -= 1\n",
    "        if window_freq[left_char] == 0:\n",
    "            del window_freq[left_char]\n",
    "        window_freq[right_char] += 1\n",
    "\n",
    "        if p_freq == window_freq:\n",
    "            result.append(i - len_p + 1)\n",
    "\n",
    "    return result\n",
    "\n",
    "s = \"cbaebabacd\"\n",
    "p = \"abc\"\n",
    "indices = findAnagrams(s, p)\n",
    "print(indices)  # Output: [0, 6]\n"
   ]
  },
  {
   "cell_type": "code",
   "execution_count": 8,
   "id": "82b0ac79",
   "metadata": {},
   "outputs": [
    {
     "name": "stdout",
     "output_type": "stream",
     "text": [
      "abcbcabcbcabcbc\n"
     ]
    }
   ],
   "source": [
    "#Question 7 Answer\n",
    "\n",
    "def decodeString(s):\n",
    "    stack = []\n",
    "    current_str = \"\"\n",
    "    repeat_count = 0\n",
    "\n",
    "    for char in s:\n",
    "        if char.isdigit():\n",
    "            repeat_count = repeat_count * 10 + int(char)\n",
    "        elif char == '[':\n",
    "            stack.append((current_str, repeat_count))\n",
    "            current_str = \"\"\n",
    "            repeat_count = 0\n",
    "        elif char == ']':\n",
    "            prev_str, prev_count = stack.pop()\n",
    "            current_str = prev_str + prev_count * current_str\n",
    "        else:\n",
    "            current_str += char\n",
    "\n",
    "    return current_str\n",
    "\n",
    "encoded_str = \"3[a2[bc]]\"\n",
    "decoded_str = decodeString(encoded_str)\n",
    "print(decoded_str)  # Output: \"aaabcbcabcabc\"\n"
   ]
  },
  {
   "cell_type": "code",
   "execution_count": 9,
   "id": "454c0840",
   "metadata": {},
   "outputs": [
    {
     "name": "stdout",
     "output_type": "stream",
     "text": [
      "True\n"
     ]
    }
   ],
   "source": [
    "#Question 8 Answer\n",
    "\n",
    "def buddyStrings(s, goal):\n",
    "    if len(s) != len(goal):\n",
    "        return False\n",
    "\n",
    "    if s == goal:\n",
    "        # Check if there are duplicate characters in s\n",
    "        seen = set()\n",
    "        for char in s:\n",
    "            if char in seen:\n",
    "                return True\n",
    "            seen.add(char)\n",
    "        return False\n",
    "\n",
    "    diff_indices = []\n",
    "    for i in range(len(s)):\n",
    "        if s[i] != goal[i]:\n",
    "            diff_indices.append(i)\n",
    "\n",
    "    return len(diff_indices) == 2 and s[diff_indices[0]] == goal[diff_indices[1]] and s[diff_indices[1]] == goal[diff_indices[0]]\n",
    "\n",
    "s = \"abcd\"\n",
    "goal = \"cbad\"\n",
    "print(buddyStrings(s, goal))  # Output: True\n"
   ]
  }
 ],
 "metadata": {
  "kernelspec": {
   "display_name": "Python 3 (ipykernel)",
   "language": "python",
   "name": "python3"
  },
  "language_info": {
   "codemirror_mode": {
    "name": "ipython",
    "version": 3
   },
   "file_extension": ".py",
   "mimetype": "text/x-python",
   "name": "python",
   "nbconvert_exporter": "python",
   "pygments_lexer": "ipython3",
   "version": "3.9.12"
  }
 },
 "nbformat": 4,
 "nbformat_minor": 5
}

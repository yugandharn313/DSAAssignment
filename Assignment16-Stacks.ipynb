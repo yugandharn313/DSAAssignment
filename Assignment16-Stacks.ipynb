{
 "cells": [
  {
   "cell_type": "code",
   "execution_count": 1,
   "id": "1f1e29b7",
   "metadata": {},
   "outputs": [
    {
     "name": "stdout",
     "output_type": "stream",
     "text": [
      "[2, -1, -1, -1, 2, -1, -1, -1]\n"
     ]
    }
   ],
   "source": [
    "# Question 1 Answer\n",
    "from collections import Counter\n",
    "\n",
    "def find_nearest_greater(array):\n",
    "    frequency = Counter(array)\n",
    "    n = len(array)\n",
    "    nearestGreater = [-1] * n\n",
    "\n",
    "    for i in range(n - 2, -1, -1):\n",
    "        current_element = array[i]\n",
    "        for j in range(i + 1, n):\n",
    "            if frequency[array[j]] > frequency[current_element]:\n",
    "                nearestGreater[i] = array[j]\n",
    "                break\n",
    "\n",
    "    return nearestGreater\n",
    "\n",
    "# Example usage:\n",
    "arr = [1, 2, 3, 2, 1, 2, 3, 3]\n",
    "result = find_nearest_greater(arr)\n",
    "print(result)\n",
    "\n"
   ]
  },
  {
   "cell_type": "code",
   "execution_count": 2,
   "id": "52c748a1",
   "metadata": {},
   "outputs": [
    {
     "name": "stdout",
     "output_type": "stream",
     "text": [
      "[7, 5, 4, 2, 1]\n"
     ]
    }
   ],
   "source": [
    "# Question 2 Answer\n",
    "def sort_stack(stack):\n",
    "    temp_stack = []\n",
    "\n",
    "    while stack:\n",
    "        temp = stack.pop()\n",
    "\n",
    "        while temp_stack and temp_stack[-1] > temp:\n",
    "            stack.append(temp_stack.pop())\n",
    "\n",
    "        temp_stack.append(temp)\n",
    "\n",
    "    # Transfer elements back to the original stack\n",
    "    while temp_stack:\n",
    "        stack.append(temp_stack.pop())\n",
    "\n",
    "    return stack\n",
    "\n",
    "\n",
    "# Example usage:\n",
    "stack = [4, 2, 7, 1, 5]\n",
    "sorted_stack = sort_stack(stack)\n",
    "print(sorted_stack)\n"
   ]
  },
  {
   "cell_type": "code",
   "execution_count": null,
   "id": "0adae5b7",
   "metadata": {},
   "outputs": [],
   "source": [
    "# Question 3 Answer\n",
    "\n",
    "def deleteMiddleElement(stack):\n",
    "    if not stack:\n",
    "        return\n",
    "\n",
    "    size = len(stack)\n",
    "    middle_index = (size // 2) + 1\n",
    "\n",
    "    def delete_middle(stack, curr_index):\n",
    "        if curr_index == middle_index:\n",
    "            stack.pop()\n",
    "            return\n",
    "\n",
    "        temp = stack.pop()\n",
    "        delete_middle(stack, curr_index + 1)\n",
    "        stack.append(temp)\n",
    "\n",
    "    delete_middle(stack, 1)\n",
    "    return stack\n",
    "\n",
    "\n",
    "# Example usage:\n",
    "stack = [1, 2, 3, 4, 5]\n",
    "result = deleteMiddleElement(stack)\n",
    "print(result)\n"
   ]
  },
  {
   "cell_type": "code",
   "execution_count": 3,
   "id": "7e9566ff",
   "metadata": {},
   "outputs": [
    {
     "name": "stdout",
     "output_type": "stream",
     "text": [
      "True\n"
     ]
    }
   ],
   "source": [
    "# Question 4 Answer\n",
    "from queue import Queue\n",
    "from collections import deque\n",
    "\n",
    "def check_queue_order(queue):\n",
    "    stack = []\n",
    "    aux_queue = Queue()\n",
    "\n",
    "    expected = 1\n",
    "\n",
    "    while not queue.empty():\n",
    "        front = queue.queue[0]\n",
    "\n",
    "        if front == expected:\n",
    "            queue.get()\n",
    "            expected += 1\n",
    "        elif stack and stack[-1] == expected:\n",
    "            stack.pop()\n",
    "            expected += 1\n",
    "        else:\n",
    "            aux_queue.put(queue.get())\n",
    "\n",
    "    while aux_queue.qsize() > 0:\n",
    "        stack.append(aux_queue.get())\n",
    "\n",
    "        if stack[-1] == expected:\n",
    "            stack.pop()\n",
    "            expected += 1\n",
    "\n",
    "    while stack:\n",
    "        if stack.pop() != expected:\n",
    "            return False\n",
    "        expected += 1\n",
    "\n",
    "    return True\n",
    "\n",
    "# Example usage:\n",
    "queue = Queue()\n",
    "queue.put(3)\n",
    "queue.put(1)\n",
    "queue.put(2)\n",
    "\n",
    "result = check_queue_order(queue)\n",
    "print(result)\n"
   ]
  },
  {
   "cell_type": "code",
   "execution_count": 4,
   "id": "99ad768b",
   "metadata": {},
   "outputs": [
    {
     "name": "stdout",
     "output_type": "stream",
     "text": [
      "54321\n"
     ]
    }
   ],
   "source": [
    "#Question 5 Answer\n",
    "def reverse_number(number):\n",
    "    number_str = str(number)\n",
    "    stack = []\n",
    "    \n",
    "    # Push each character onto the stack\n",
    "    for char in number_str:\n",
    "        stack.append(char)\n",
    "    \n",
    "    reversed_str = ''\n",
    "    \n",
    "    # Pop the characters from the stack and append them to a new string\n",
    "    while stack:\n",
    "        reversed_str += stack.pop()\n",
    "    \n",
    "    reversed_number = int(reversed_str)\n",
    "    return reversed_number\n",
    "\n",
    "# Example usage:\n",
    "number = 12345\n",
    "reversed_number = reverse_number(number)\n",
    "print(reversed_number)\n"
   ]
  },
  {
   "cell_type": "code",
   "execution_count": 5,
   "id": "47ae3bd5",
   "metadata": {},
   "outputs": [
    {
     "name": "stdout",
     "output_type": "stream",
     "text": [
      "3\n",
      "2\n",
      "1\n",
      "4\n",
      "5\n"
     ]
    }
   ],
   "source": [
    "# Question 6 Answer\n",
    "\n",
    "from queue import Queue\n",
    "\n",
    "def reverse_k_elements(queue, k):\n",
    "    if k <= 0 or k > queue.qsize():\n",
    "        return queue\n",
    "\n",
    "    stack = []\n",
    "    temp_queue = Queue()\n",
    "\n",
    "    # Dequeue and push the first k elements onto the stack\n",
    "    for _ in range(k):\n",
    "        stack.append(queue.get())\n",
    "\n",
    "    # Dequeue the remaining elements and enqueue them into the temporary queue\n",
    "    while not queue.empty():\n",
    "        temp_queue.put(queue.get())\n",
    "\n",
    "    # Enqueue the elements from the stack back into the original queue\n",
    "    while stack:\n",
    "        queue.put(stack.pop())\n",
    "\n",
    "    # Enqueue the elements from the temporary queue back into the original queue\n",
    "    while not temp_queue.empty():\n",
    "        queue.put(temp_queue.get())\n",
    "\n",
    "    return queue\n",
    "\n",
    "# Example usage:\n",
    "queue = Queue()\n",
    "queue.put(1)\n",
    "queue.put(2)\n",
    "queue.put(3)\n",
    "queue.put(4)\n",
    "queue.put(5)\n",
    "k = 3\n",
    "\n",
    "reversed_queue = reverse_k_elements(queue, k)\n",
    "\n",
    "while not reversed_queue.empty():\n",
    "    print(reversed_queue.get())\n"
   ]
  },
  {
   "cell_type": "code",
   "execution_count": null,
   "id": "3165cc54",
   "metadata": {},
   "outputs": [],
   "source": [
    "# Question 7 Answer\n",
    "\n",
    "def pairwise_destruction(sequence):\n",
    "    stack = []\n",
    "\n",
    "    for word in sequence:\n",
    "        if not stack:\n",
    "            stack.append(word)\n",
    "        else:\n",
    "            top_word = stack[-1]\n",
    "            if top_word == word:\n",
    "                stack.pop()\n",
    "            else:\n",
    "                stack.append(word)\n",
    "\n",
    "    remaining_words = len(stack)\n",
    "    return remaining_words\n",
    "\n",
    "# Example usage:\n",
    "sequence = [\"apple\", \"banana\", \"banana\", \"orange\", \"kiwi\", \"kiwi\", \"kiwi\"]\n",
    "remaining = pairwise_destruction(sequence)\n",
    "print(remaining)\n"
   ]
  },
  {
   "cell_type": "code",
   "execution_count": 6,
   "id": "090d9ea1",
   "metadata": {},
   "outputs": [
    {
     "name": "stdout",
     "output_type": "stream",
     "text": [
      "5\n"
     ]
    }
   ],
   "source": [
    "# Question 8 Answer\n",
    "\n",
    "def find_max_absolute_difference(arr):\n",
    "    n = len(arr)\n",
    "    stack = []\n",
    "    left_smaller = [0] * n\n",
    "    right_smaller = [0] * n\n",
    "\n",
    "    for i in range(n):\n",
    "        while stack and arr[stack[-1]] > arr[i]:\n",
    "            popped = stack.pop()\n",
    "            right_smaller[popped] = arr[i]\n",
    "        stack.append(i)\n",
    "\n",
    "    stack.clear()\n",
    "\n",
    "    for i in range(n - 1, -1, -1):\n",
    "        while stack and arr[stack[-1]] >= arr[i]:\n",
    "            popped = stack.pop()\n",
    "            left_smaller[popped] = arr[i]\n",
    "        stack.append(i)\n",
    "\n",
    "    max_diff = 0\n",
    "\n",
    "    for i in range(n):\n",
    "        diff = abs(left_smaller[i] - right_smaller[i])\n",
    "        max_diff = max(max_diff, diff)\n",
    "\n",
    "    return max_diff\n",
    "\n",
    "# Example usage:\n",
    "arr = [2, 7, 3, 5, 4, 6, 8, 1]\n",
    "max_diff = find_max_absolute_difference(arr)\n",
    "print(max_diff)\n"
   ]
  }
 ],
 "metadata": {
  "kernelspec": {
   "display_name": "Python 3 (ipykernel)",
   "language": "python",
   "name": "python3"
  },
  "language_info": {
   "codemirror_mode": {
    "name": "ipython",
    "version": 3
   },
   "file_extension": ".py",
   "mimetype": "text/x-python",
   "name": "python",
   "nbconvert_exporter": "python",
   "pygments_lexer": "ipython3",
   "version": "3.9.12"
  }
 },
 "nbformat": 4,
 "nbformat_minor": 5
}

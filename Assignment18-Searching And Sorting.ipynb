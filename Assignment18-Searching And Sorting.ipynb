{
 "cells": [
  {
   "cell_type": "code",
   "execution_count": 15,
   "id": "5b11cd54",
   "metadata": {},
   "outputs": [
    {
     "name": "stdout",
     "output_type": "stream",
     "text": [
      "[[1, 6], [8, 10], [15, 18]]\n"
     ]
    }
   ],
   "source": [
    "# Question 1 Answer\n",
    "\n",
    "def merge_intervals(intervals):\n",
    "    # Sort intervals based on start time\n",
    "    intervals.sort(key=lambda x: x[0])\n",
    "\n",
    "    merged = []\n",
    "    for interval in intervals:\n",
    "        if not merged or interval[0] > merged[-1][1]:\n",
    "            # Non-overlapping interval, add to merged list\n",
    "            merged.append(interval)\n",
    "        else:\n",
    "            # Overlapping interval, merge with last interval in merged list\n",
    "            merged[-1][1] = max(merged[-1][1], interval[1])\n",
    "\n",
    "    return merged\n",
    "\n",
    "intervals = [[1, 3], [2, 6], [8, 10], [15, 18]]\n",
    "merged_intervals = merge_intervals(intervals)\n",
    "print(merged_intervals)\n",
    "\n"
   ]
  },
  {
   "cell_type": "code",
   "execution_count": 16,
   "id": "84e9675e",
   "metadata": {},
   "outputs": [
    {
     "name": "stdout",
     "output_type": "stream",
     "text": [
      "[0, 0, 1, 1, 2, 2]\n"
     ]
    }
   ],
   "source": [
    "# Question 2 Answer\n",
    "\n",
    "def sortColors(nums):\n",
    "    low = 0\n",
    "    mid = 0\n",
    "    high = len(nums) - 1\n",
    "\n",
    "    while mid <= high:\n",
    "        if nums[mid] == 0:  # Red\n",
    "            nums[low], nums[mid] = nums[mid], nums[low]\n",
    "            low += 1\n",
    "            mid += 1\n",
    "        elif nums[mid] == 1:  # White\n",
    "            mid += 1\n",
    "        else:  # Blue\n",
    "            nums[mid], nums[high] = nums[high], nums[mid]\n",
    "            high -= 1\n",
    "\n",
    "    return nums\n",
    "nums = [2, 0, 2, 1, 1, 0]\n",
    "sorted_nums = sortColors(nums)\n",
    "print(sorted_nums)\n",
    "\n",
    "\n"
   ]
  },
  {
   "cell_type": "code",
   "execution_count": 23,
   "id": "2a286f7f",
   "metadata": {},
   "outputs": [
    {
     "name": "stdout",
     "output_type": "stream",
     "text": [
      "1\n"
     ]
    }
   ],
   "source": [
    "# Question 3 Answer\n",
    "\n",
    "def isBadVersion(number):\n",
    "    return number > 0\n",
    "def firstBadVersion(n):\n",
    "    left = 1\n",
    "    right = n\n",
    "\n",
    "    while left < right:\n",
    "        mid = left + (right - left) // 2\n",
    "        if isBadVersion(mid):\n",
    "            right = mid\n",
    "        else:\n",
    "            left = mid + 1\n",
    "\n",
    "    return left\n",
    "n = 10 \n",
    "first_bad = firstBadVersion(n)\n",
    "print(first_bad)\n",
    "\n",
    "\n"
   ]
  },
  {
   "cell_type": "code",
   "execution_count": 18,
   "id": "0e259c68",
   "metadata": {},
   "outputs": [
    {
     "name": "stdout",
     "output_type": "stream",
     "text": [
      "3\n"
     ]
    }
   ],
   "source": [
    "# Question 4 Answer\n",
    "\n",
    "def maximumGap(nums):\n",
    "    if len(nums) < 2:\n",
    "        return 0\n",
    "    \n",
    "    # Find the maximum element in the array\n",
    "    max_num = max(nums)\n",
    "    \n",
    "    # Perform radix sort on the array\n",
    "    exp = 1\n",
    "    n = len(nums)\n",
    "    sorted_nums = [0] * n\n",
    "    \n",
    "    while max_num // exp > 0:\n",
    "        count = [0] * 10\n",
    "        \n",
    "        # Count the occurrences of each digit\n",
    "        for num in nums:\n",
    "            count[(num // exp) % 10] += 1\n",
    "        \n",
    "        # Calculate the cumulative count\n",
    "        for i in range(1, 10):\n",
    "            count[i] += count[i - 1]\n",
    "        \n",
    "        # Build the sorted array\n",
    "        for i in range(n - 1, -1, -1):\n",
    "            digit = (nums[i] // exp) % 10\n",
    "            sorted_nums[count[digit] - 1] = nums[i]\n",
    "            count[digit] -= 1\n",
    "        \n",
    "        # Update the original array with the sorted array\n",
    "        nums = sorted_nums[:]\n",
    "        \n",
    "        # Move to the next digit\n",
    "        exp *= 10\n",
    "    \n",
    "    # Find the maximum gap in the sorted array\n",
    "    max_gap = 0\n",
    "    for i in range(1, n):\n",
    "        max_gap = max(max_gap, nums[i] - nums[i - 1])\n",
    "    \n",
    "    return max_gap\n",
    "nums = [3, 6, 9, 1]\n",
    "max_gap = maximumGap(nums)\n",
    "print(max_gap)\n",
    "\n"
   ]
  },
  {
   "cell_type": "code",
   "execution_count": 19,
   "id": "1ecba152",
   "metadata": {},
   "outputs": [
    {
     "name": "stdout",
     "output_type": "stream",
     "text": [
      "True\n"
     ]
    }
   ],
   "source": [
    "# Question 5 Answer\n",
    "\n",
    "def containsDuplicate(nums):\n",
    "    num_set = set()\n",
    "    \n",
    "    for num in nums:\n",
    "        if num in num_set:\n",
    "            return True\n",
    "        num_set.add(num)\n",
    "    \n",
    "    return False\n",
    "nums = [1, 2, 3, 1]\n",
    "has_duplicate = containsDuplicate(nums)\n",
    "print(has_duplicate)\n",
    "\n"
   ]
  },
  {
   "cell_type": "code",
   "execution_count": 20,
   "id": "9809dcce",
   "metadata": {},
   "outputs": [
    {
     "name": "stdout",
     "output_type": "stream",
     "text": [
      "2\n"
     ]
    }
   ],
   "source": [
    "# Question 6 Answer\n",
    "\n",
    "def findMinArrowShots(points):\n",
    "    if not points:\n",
    "        return 0\n",
    "    \n",
    "    points.sort(key=lambda x: x[1])  # Sort balloons based on end points\n",
    "    end = points[0][1]  # Initialize with the end point of the first balloon\n",
    "    arrows = 1  # At least one arrow is needed\n",
    "    \n",
    "    for i in range(1, len(points)):\n",
    "        if points[i][0] > end:\n",
    "            arrows += 1\n",
    "            end = points[i][1]\n",
    "        else:\n",
    "            end = min(end, points[i][1])\n",
    "    \n",
    "    return arrows\n",
    "points = [[10,16],[2,8],[1,6],[7,12]]\n",
    "min_arrows = findMinArrowShots(points)\n",
    "print(min_arrows)\n"
   ]
  },
  {
   "cell_type": "code",
   "execution_count": 13,
   "id": "d78acb09",
   "metadata": {},
   "outputs": [
    {
     "name": "stdout",
     "output_type": "stream",
     "text": [
      "1\n",
      "4\n",
      "2\n",
      "3\n",
      "True\n"
     ]
    }
   ],
   "source": [
    "# Question 7 Answer\n",
    "\n",
    "def lengthOfLIS(nums):\n",
    "    if not nums:\n",
    "        return 0\n",
    "    \n",
    "    n = len(nums)\n",
    "    dp = [1] * n\n",
    "    \n",
    "    for i in range(1, n):\n",
    "        for j in range(i):\n",
    "            if nums[i] > nums[j]:\n",
    "                dp[i] = max(dp[i], dp[j] + 1)\n",
    "    \n",
    "    return max(dp)\n",
    "\n",
    "nums = [10, 9, 2, 5, 3, 7, 101, 18]\n",
    "length = lengthOfLIS(nums)\n",
    "print(length)\n",
    "\n"
   ]
  },
  {
   "cell_type": "code",
   "execution_count": 21,
   "id": "af589a64",
   "metadata": {},
   "outputs": [
    {
     "name": "stdout",
     "output_type": "stream",
     "text": [
      "True\n"
     ]
    }
   ],
   "source": [
    "# Question 8 Answer\n",
    "\n",
    "def find132pattern(nums):\n",
    "    n = len(nums)\n",
    "    stack = []\n",
    "    s3 = float('-inf')\n",
    "    \n",
    "    for i in range(n - 1, -1, -1):\n",
    "        if nums[i] < s3:\n",
    "            return True\n",
    "        \n",
    "        while stack and nums[i] > stack[-1]:\n",
    "            s3 = stack.pop()\n",
    "        \n",
    "        stack.append(nums[i])\n",
    "    \n",
    "    return False\n",
    "nums = [3, 1, 4, 2]\n",
    "pattern_exists = find132pattern(nums)\n",
    "print(pattern_exists)\n",
    "\n"
   ]
  },
  {
   "cell_type": "code",
   "execution_count": null,
   "id": "68048ad8",
   "metadata": {},
   "outputs": [],
   "source": []
  }
 ],
 "metadata": {
  "kernelspec": {
   "display_name": "Python 3 (ipykernel)",
   "language": "python",
   "name": "python3"
  },
  "language_info": {
   "codemirror_mode": {
    "name": "ipython",
    "version": 3
   },
   "file_extension": ".py",
   "mimetype": "text/x-python",
   "name": "python",
   "nbconvert_exporter": "python",
   "pygments_lexer": "ipython3",
   "version": "3.9.12"
  }
 },
 "nbformat": 4,
 "nbformat_minor": 5
}

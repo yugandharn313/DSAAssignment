{
 "cells": [
  {
   "cell_type": "code",
   "execution_count": 1,
   "id": "85655ec5",
   "metadata": {},
   "outputs": [
    {
     "name": "stdout",
     "output_type": "stream",
     "text": [
      "True\n"
     ]
    }
   ],
   "source": [
    "#Question 1 Answer\n",
    "\n",
    "def isPowerOfTwo(n):\n",
    "    if n == 1:\n",
    "        return True\n",
    "    elif n < 1 or n % 2 != 0:\n",
    "        return False\n",
    "    else:\n",
    "        return isPowerOfTwo(n // 2)\n",
    "\n",
    "# Example usage\n",
    "print(isPowerOfTwo(16)) \n",
    "\n"
   ]
  },
  {
   "cell_type": "code",
   "execution_count": 2,
   "id": "4c2d8e40",
   "metadata": {},
   "outputs": [
    {
     "name": "stdout",
     "output_type": "stream",
     "text": [
      "15\n"
     ]
    }
   ],
   "source": [
    "#Question 2 Answer\n",
    "\n",
    "def sumOfFirstN(n):\n",
    "    if n == 1:\n",
    "        return 1\n",
    "    else:\n",
    "        return n + sumOfFirstN(n - 1)\n",
    "\n",
    "# Example usage\n",
    "print(sumOfFirstN(5))\n"
   ]
  },
  {
   "cell_type": "code",
   "execution_count": 3,
   "id": "06a2a689",
   "metadata": {},
   "outputs": [
    {
     "name": "stdout",
     "output_type": "stream",
     "text": [
      "120\n"
     ]
    }
   ],
   "source": [
    "#Question 3 Answer\n",
    "\n",
    "def factorial(n):\n",
    "    if n==0:\n",
    "        return 1\n",
    "    else:\n",
    "        return n*factorial(n-1)\n",
    "    \n",
    "# Example Usage\n",
    "print(factorial(5))"
   ]
  },
  {
   "cell_type": "code",
   "execution_count": 5,
   "id": "caf4c4ef",
   "metadata": {},
   "outputs": [
    {
     "name": "stdout",
     "output_type": "stream",
     "text": [
      "32\n"
     ]
    }
   ],
   "source": [
    "#Quetion 4 Answer\n",
    "\n",
    "def exponential(val,num):\n",
    "    if num==0:\n",
    "        return 1\n",
    "    else:\n",
    "        return val*exponential(val,num-1)\n",
    "    \n",
    "#Example Usage\n",
    "print(exponential(2,5))"
   ]
  },
  {
   "cell_type": "code",
   "execution_count": 6,
   "id": "02e48dbd",
   "metadata": {},
   "outputs": [
    {
     "name": "stdout",
     "output_type": "stream",
     "text": [
      "9\n"
     ]
    }
   ],
   "source": [
    "# Question 5 Answer\n",
    "\n",
    "def findMax(arr):\n",
    "    if len(arr) == 1:\n",
    "        return arr[0]\n",
    "    else:\n",
    "        return max(arr[0], findMax(arr[1:]))\n",
    "\n",
    "# Example usage\n",
    "array = [4, 9, 2, 7, 5]\n",
    "print(findMax(array)) \n",
    "\n",
    "    "
   ]
  },
  {
   "cell_type": "code",
   "execution_count": 7,
   "id": "a6c34e45",
   "metadata": {},
   "outputs": [
    {
     "name": "stdout",
     "output_type": "stream",
     "text": [
      "14\n"
     ]
    }
   ],
   "source": [
    "# Question 6 Answer\n",
    "\n",
    "def findNthTerm(a, d, N):\n",
    "    if N == 1:\n",
    "        return a\n",
    "    else:\n",
    "        return findNthTerm(a + d, d, N - 1)\n",
    "\n",
    "# Example usage\n",
    "first_term = 2\n",
    "common_difference = 3\n",
    "N = 5\n",
    "print(findNthTerm(first_term, common_difference, N)) \n"
   ]
  },
  {
   "cell_type": "code",
   "execution_count": 8,
   "id": "8874af5c",
   "metadata": {},
   "outputs": [
    {
     "name": "stdout",
     "output_type": "stream",
     "text": [
      "ABC\n",
      "ACB\n",
      "BAC\n",
      "BCA\n",
      "CBA\n",
      "CAB\n"
     ]
    }
   ],
   "source": [
    "#Question 7 Answer\n",
    "\n",
    "def permute(s, left, right):\n",
    "    if left == right:\n",
    "        print(''.join(s))\n",
    "    else:\n",
    "        for i in range(left, right + 1):\n",
    "            s[left], s[i] = s[i], s[left]  # Swap characters\n",
    "            permute(s, left + 1, right)  # Recursively generate permutations\n",
    "            s[left], s[i] = s[i], s[left]  # Restore the original string\n",
    "\n",
    "# Example usage\n",
    "string = \"ABC\"\n",
    "n = len(string)\n",
    "permute(list(string), 0, n - 1)\n"
   ]
  },
  {
   "cell_type": "code",
   "execution_count": 10,
   "id": "511132ad",
   "metadata": {},
   "outputs": [
    {
     "name": "stdout",
     "output_type": "stream",
     "text": [
      "25200\n"
     ]
    }
   ],
   "source": [
    "#Question 8 Answer\n",
    "\n",
    "def product(nums,i):\n",
    "    if(i==0):\n",
    "        return nums[i]\n",
    "    else:\n",
    "        return nums[i]*product(nums,i-1)\n",
    "    \n",
    "#Example Usage\n",
    "\n",
    "array = [4, 9, 2, 7, 5]\n",
    "print(product(array,len(array)-1))"
   ]
  }
 ],
 "metadata": {
  "kernelspec": {
   "display_name": "Python 3 (ipykernel)",
   "language": "python",
   "name": "python3"
  },
  "language_info": {
   "codemirror_mode": {
    "name": "ipython",
    "version": 3
   },
   "file_extension": ".py",
   "mimetype": "text/x-python",
   "name": "python",
   "nbconvert_exporter": "python",
   "pygments_lexer": "ipython3",
   "version": "3.9.12"
  }
 },
 "nbformat": 4,
 "nbformat_minor": 5
}

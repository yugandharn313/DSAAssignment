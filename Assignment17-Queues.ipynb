{
 "cells": [
  {
   "cell_type": "code",
   "execution_count": 1,
   "id": "589d6b80",
   "metadata": {},
   "outputs": [
    {
     "name": "stdout",
     "output_type": "stream",
     "text": [
      "0\n"
     ]
    }
   ],
   "source": [
    "# Question 1 Answer\n",
    "\n",
    "def first_non_repeating_char(s):\n",
    "    char_freq = {}\n",
    "\n",
    "    # Update character frequencies\n",
    "    for char in s:\n",
    "        if char in char_freq:\n",
    "            char_freq[char] += 1\n",
    "        else:\n",
    "            char_freq[char] = 1\n",
    "\n",
    "    # Find the first non-repeating character\n",
    "    for i, char in enumerate(s):\n",
    "        if char_freq[char] == 1:\n",
    "            return i\n",
    "\n",
    "    # No non-repeating character found\n",
    "    return -1\n",
    "\n",
    "# Example usage:\n",
    "string = \"leetcode\"\n",
    "result = first_non_repeating_char(string)\n",
    "print(result)\n"
   ]
  },
  {
   "cell_type": "code",
   "execution_count": 6,
   "id": "63ced3e2",
   "metadata": {},
   "outputs": [
    {
     "name": "stdout",
     "output_type": "stream",
     "text": [
      "3\n"
     ]
    }
   ],
   "source": [
    "# Question 2 Answer\n",
    "\n",
    "def max_subarray_sum_circular(nums):\n",
    "    n = len(nums)\n",
    "    \n",
    "    max_sum = nums[0]\n",
    "    current_max = nums[0]\n",
    "    \n",
    "    min_sum = nums[0]\n",
    "    current_min = nums[0]\n",
    "    \n",
    "    total_sum = nums[0]\n",
    "    \n",
    "    for i in range(1, n):\n",
    "        current_max = max(nums[i], current_max + nums[i])\n",
    "        max_sum = max(max_sum, current_max)\n",
    "        \n",
    "        current_min = min(nums[i], current_min + nums[i])\n",
    "        min_sum = min(min_sum, current_min)\n",
    "        \n",
    "        total_sum += nums[i]\n",
    "    \n",
    "    if max_sum > 0:\n",
    "        return max_sum\n",
    "    else:\n",
    "        return max(max_sum, total_sum - min_sum)\n",
    "\n",
    "# Example usage:\n",
    "nums = [1, -2, 3, -2]\n",
    "result = max_subarray_sum_circular(nums)\n",
    "print(result)\n",
    "\n",
    "\n"
   ]
  },
  {
   "cell_type": "code",
   "execution_count": 7,
   "id": "4ae2c317",
   "metadata": {},
   "outputs": [
    {
     "name": "stdout",
     "output_type": "stream",
     "text": [
      "6\n"
     ]
    }
   ],
   "source": [
    "# Question 3 Answer\n",
    "\n",
    "def count_students_unable_to_eat(students, sandwiches):\n",
    "    unable_to_eat = 0\n",
    "    n = len(students)\n",
    "    m = len(sandwiches)\n",
    "\n",
    "    # Iterate through the students\n",
    "    for _ in range(n):\n",
    "        # Check if the queue is empty\n",
    "        if not students:\n",
    "            break\n",
    "\n",
    "        # Check if the student prefers the sandwich\n",
    "        if students[0] == sandwiches[0]:\n",
    "            students.pop(0)\n",
    "            sandwiches.pop(0)\n",
    "        else:\n",
    "            # Move the student to the end of the queue\n",
    "            students.append(students.pop(0))\n",
    "            unable_to_eat += 1\n",
    "\n",
    "    # Add the remaining students in the queue\n",
    "    unable_to_eat += len(students)\n",
    "\n",
    "    return unable_to_eat\n",
    "\n",
    "# Example usage:\n",
    "students = [1, 1, 0, 0]\n",
    "sandwiches = [0, 1, 0, 1]\n",
    "result = count_students_unable_to_eat(students, sandwiches)\n",
    "print(result)\n"
   ]
  },
  {
   "cell_type": "code",
   "execution_count": 9,
   "id": "8712e782",
   "metadata": {},
   "outputs": [
    {
     "name": "stdout",
     "output_type": "stream",
     "text": [
      "1\n",
      "2\n",
      "3\n",
      "4\n",
      "5\n",
      "6\n",
      "5\n"
     ]
    }
   ],
   "source": [
    "# Question 4 Answer\n",
    "\n",
    "from collections import deque\n",
    "\n",
    "class RecentCounter:\n",
    "    def __init__(self):\n",
    "        self.requests = deque()\n",
    "\n",
    "    def ping(self, t: int) -> int:\n",
    "        # Add the current request's timestamp to the queue\n",
    "        self.requests.append(t)\n",
    "\n",
    "        # Remove outdated timestamps\n",
    "        while self.requests[0] < t - 3000:\n",
    "            self.requests.popleft()\n",
    "\n",
    "        # Return the number of requests within the time frame\n",
    "        return len(self.requests)\n",
    "\n",
    "counter = RecentCounter()\n",
    "print(counter.ping(100))  # Returns 1: There is 1 request at time 100.\n",
    "print(counter.ping(300))  # Returns 2: There are 2 requests at times 100 and 300.\n",
    "print(counter.ping(600))  # Returns 3: There are 3 requests at times 100, 300, and 600.\n",
    "print(counter.ping(1500)) # Returns 3: The request at time 100 is now outdated, so there are still 3 requests within the time frame.\n",
    "print(counter.ping(2000)) # Returns 3: There are still 3 requests within the time frame.\n",
    "print(counter.ping(3000)) # Returns 4: The request at time 300 is now outdated, so there are 4 requests within the time frame.\n",
    "print(counter.ping(3500)) # Returns 3: The requests at times 600, 1500, and 2000 are now outdated, so there are 3 requests within the time frame.\n"
   ]
  },
  {
   "cell_type": "code",
   "execution_count": 10,
   "id": "ea3fce98",
   "metadata": {},
   "outputs": [
    {
     "name": "stdout",
     "output_type": "stream",
     "text": [
      "3\n"
     ]
    }
   ],
   "source": [
    "# Question 5 Answer\n",
    "\n",
    "def find_winner(n: int, k: int) -> int:\n",
    "    friends = list(range(1, n+1))\n",
    "    current = 0\n",
    "\n",
    "    while len(friends) > 1:\n",
    "        current = (current + k - 1) % len(friends)\n",
    "        friends.pop(current)\n",
    "\n",
    "    return friends[0]\n",
    "\n",
    "# Example usage:\n",
    "n = 5\n",
    "k = 2\n",
    "winner = find_winner(n, k)\n",
    "print(winner)\n"
   ]
  },
  {
   "cell_type": "code",
   "execution_count": 11,
   "id": "58118a5e",
   "metadata": {},
   "outputs": [
    {
     "name": "stdout",
     "output_type": "stream",
     "text": [
      "[2, 13, 3, 11, 5, 17, 7]\n"
     ]
    }
   ],
   "source": [
    "# Question 6 Answer\n",
    "\n",
    "from collections import deque\n",
    "\n",
    "def deck_revealed_increasing(deck):\n",
    "    deck.sort()\n",
    "    revealed = deque()\n",
    "\n",
    "    for i in range(len(deck) - 1, -1, -1):\n",
    "        if revealed:\n",
    "            revealed.appendleft(revealed.pop())\n",
    "\n",
    "        revealed.appendleft(deck[i])\n",
    "\n",
    "    return list(revealed)\n",
    "\n",
    "# Example usage:\n",
    "deck = [17, 13, 11, 2, 3, 5, 7]\n",
    "ordering = deck_revealed_increasing(deck)\n",
    "print(ordering)\n"
   ]
  },
  {
   "cell_type": "code",
   "execution_count": 13,
   "id": "1d86ae85",
   "metadata": {},
   "outputs": [
    {
     "name": "stdout",
     "output_type": "stream",
     "text": [
      "1\n",
      "4\n",
      "2\n",
      "3\n",
      "True\n"
     ]
    }
   ],
   "source": [
    "# Question 7 Answer\n",
    "\n",
    "class FrontMiddleBack:\n",
    "    def __init__(self):\n",
    "        self.front = []\n",
    "        self.back = []\n",
    "\n",
    "    def pushFront(self, val: int) -> None:\n",
    "        self.front.append(val)\n",
    "        self.balance()\n",
    "\n",
    "    def pushMiddle(self, val: int) -> None:\n",
    "        if len(self.front) > len(self.back):\n",
    "            self.back.insert(0, self.front.pop())\n",
    "        self.front.append(val)\n",
    "\n",
    "    def pushBack(self, val: int) -> None:\n",
    "        self.back.append(val)\n",
    "        self.balance()\n",
    "\n",
    "    def popFront(self) -> int:\n",
    "        if not self.isEmpty():\n",
    "            if self.front:\n",
    "                return self.front.pop(0)\n",
    "            else:\n",
    "                val = self.back.pop(0)\n",
    "                self.balance()\n",
    "                return val\n",
    "        return -1\n",
    "\n",
    "    def popMiddle(self) -> int:\n",
    "        if not self.isEmpty():\n",
    "            if len(self.front) > len(self.back):\n",
    "                return self.front.pop()\n",
    "            else:\n",
    "                return self.back.pop(0)\n",
    "        return -1\n",
    "\n",
    "    def popBack(self) -> int:\n",
    "        if not self.isEmpty():\n",
    "            if self.back:\n",
    "                return self.back.pop()\n",
    "            else:\n",
    "                val = self.front.pop()\n",
    "                self.balance()\n",
    "                return val\n",
    "        return -1\n",
    "\n",
    "    def isEmpty(self) -> bool:\n",
    "        return len(self.front) == 0 and len(self.back) == 0\n",
    "\n",
    "    def balance(self) -> None:\n",
    "        if len(self.front) > len(self.back) + 1:\n",
    "            self.back.insert(0, self.front.pop())\n",
    "        elif len(self.back) > len(self.front):\n",
    "            self.front.append(self.back.pop(0))\n",
    "\n",
    "queue = FrontMiddleBack()\n",
    "queue.pushFront(1)\n",
    "queue.pushBack(2)\n",
    "queue.pushMiddle(3)\n",
    "queue.pushFront(4)\n",
    "print(queue.popFront())  # Output: 4\n",
    "print(queue.popMiddle())  # Output: 1\n",
    "print(queue.popBack())  # Output: 3\n",
    "print(queue.popFront())  # Output: 2\n",
    "print(queue.isEmpty())  # Output: True\n"
   ]
  },
  {
   "cell_type": "code",
   "execution_count": 14,
   "id": "075d0949",
   "metadata": {},
   "outputs": [
    {
     "name": "stdout",
     "output_type": "stream",
     "text": [
      "False\n",
      "False\n",
      "False\n",
      "False\n",
      "True\n",
      "False\n"
     ]
    }
   ],
   "source": [
    "# Question 8 Answer\n",
    "\n",
    "from collections import deque\n",
    "\n",
    "class DataStream:\n",
    "    def __init__(self, value: int, k: int):\n",
    "        self.value = value\n",
    "        self.k = k\n",
    "        self.stream = deque()\n",
    "\n",
    "    def consec(self, num: int) -> bool:\n",
    "        self.stream.append(num)\n",
    "        if len(self.stream) >= self.k:\n",
    "            return list(self.stream)[-self.k:] == [self.value] * self.k\n",
    "        return False\n",
    "\n",
    "stream = DataStream(3, 4)\n",
    "print(stream.consec(1))  # Output: False\n",
    "print(stream.consec(3))  # Output: False\n",
    "print(stream.consec(3))  # Output: False\n",
    "print(stream.consec(3))  # Output: False\n",
    "print(stream.consec(3))  # Output: True\n",
    "print(stream.consec(4))  # Output: False\n"
   ]
  },
  {
   "cell_type": "code",
   "execution_count": null,
   "id": "4cf49633",
   "metadata": {},
   "outputs": [],
   "source": []
  }
 ],
 "metadata": {
  "kernelspec": {
   "display_name": "Python 3 (ipykernel)",
   "language": "python",
   "name": "python3"
  },
  "language_info": {
   "codemirror_mode": {
    "name": "ipython",
    "version": 3
   },
   "file_extension": ".py",
   "mimetype": "text/x-python",
   "name": "python",
   "nbconvert_exporter": "python",
   "pygments_lexer": "ipython3",
   "version": "3.9.12"
  }
 },
 "nbformat": 4,
 "nbformat_minor": 5
}

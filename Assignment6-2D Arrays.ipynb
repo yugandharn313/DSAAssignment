{
 "cells": [
  {
   "cell_type": "code",
   "execution_count": 1,
   "id": "09db3d97",
   "metadata": {},
   "outputs": [
    {
     "name": "stdout",
     "output_type": "stream",
     "text": [
      "[3, 3, 2, 0, 1, 2]\n"
     ]
    }
   ],
   "source": [
    "# Question 1 Answer\n",
    "\n",
    "def reconstruct_permutation(s):\n",
    "    perm = []\n",
    "    n = len(s)\n",
    "    perm.append(0)\n",
    "\n",
    "    for c in s:\n",
    "        if c == 'I':\n",
    "            perm.append(perm[-1] + 1)\n",
    "        elif c == 'D':\n",
    "            perm.insert(0, perm[-1] + 1)\n",
    "\n",
    "    return perm\n",
    "\n",
    "\n",
    "s = \"IDIDD\"\n",
    "perm = reconstruct_permutation(s)\n",
    "print(perm)\n"
   ]
  },
  {
   "cell_type": "code",
   "execution_count": 2,
   "id": "37f55da6",
   "metadata": {},
   "outputs": [
    {
     "name": "stdout",
     "output_type": "stream",
     "text": [
      "True\n"
     ]
    }
   ],
   "source": [
    "#Quetion 2 Answer\n",
    "\n",
    "def searchMatrix(matrix, target):\n",
    "    m = len(matrix)\n",
    "    n = len(matrix[0])\n",
    "\n",
    "    left = 0\n",
    "    right = m * n - 1\n",
    "\n",
    "    while left <= right:\n",
    "        mid = (left + right) // 2\n",
    "        row = mid // n\n",
    "        col = mid % n\n",
    "\n",
    "        if matrix[row][col] == target:\n",
    "            return True\n",
    "        elif matrix[row][col] < target:\n",
    "            left = mid + 1\n",
    "        else:\n",
    "            right = mid - 1\n",
    "\n",
    "    return False\n",
    "\n",
    "\n",
    "matrix = [\n",
    "    [1, 3, 5, 7],\n",
    "    [10, 11, 16, 20],\n",
    "    [23, 30, 34, 60]\n",
    "]\n",
    "target = 3\n",
    "\n",
    "print(searchMatrix(matrix, target))\n"
   ]
  },
  {
   "cell_type": "code",
   "execution_count": 3,
   "id": "9b96e213",
   "metadata": {},
   "outputs": [
    {
     "name": "stdout",
     "output_type": "stream",
     "text": [
      "False\n",
      "False\n"
     ]
    }
   ],
   "source": [
    "# Question 3 Answer\n",
    "\n",
    "\n",
    "def validMountainArray(arr):\n",
    "    n = len(arr)\n",
    "    if n < 3:\n",
    "        return False\n",
    "\n",
    "    i = 0\n",
    "    while i + 1 < n and arr[i] < arr[i + 1]:\n",
    "        i += 1\n",
    "\n",
    "    if i == 0 or i == n - 1:\n",
    "        return False\n",
    "\n",
    "    while i + 1 < n and arr[i] > arr[i + 1]:\n",
    "        i += 1\n",
    "\n",
    "    return i == n - 1\n",
    "\n",
    "arr1 = [2, 1]\n",
    "arr2 = [3, 5, 5]\n",
    "\n",
    "print(validMountainArray(arr1))\n",
    "print(validMountainArray(arr2))\n"
   ]
  },
  {
   "cell_type": "code",
   "execution_count": 5,
   "id": "0b3576d5",
   "metadata": {},
   "outputs": [
    {
     "name": "stdout",
     "output_type": "stream",
     "text": [
      "2\n"
     ]
    }
   ],
   "source": [
    "# Question 4 Answer\n",
    "\n",
    "def findMaxLength(nums):\n",
    "    max_length = 0\n",
    "    count = 0\n",
    "    count_dict = {0: -1}\n",
    "\n",
    "    for idx, num in enumerate(nums):\n",
    "        count += 1 if num == 1 else -1\n",
    "\n",
    "        if count in count_dict:\n",
    "            max_length = max(max_length, idx - count_dict[count])\n",
    "        else:\n",
    "            count_dict[count] = idx\n",
    "\n",
    "    return max_length\n",
    "\n",
    "nums = [0, 1]\n",
    "\n",
    "print(findMaxLength(nums))\n"
   ]
  },
  {
   "cell_type": "code",
   "execution_count": 7,
   "id": "bd70cce8",
   "metadata": {},
   "outputs": [
    {
     "name": "stdout",
     "output_type": "stream",
     "text": [
      "40\n"
     ]
    }
   ],
   "source": [
    "# QUestion 5 Answer\n",
    "\n",
    "def minProductSum(nums1, nums2):\n",
    "    nums1.sort()\n",
    "    nums2.sort(reverse=True)\n",
    "\n",
    "    min_product_sum = 0\n",
    "    for num1, num2 in zip(nums1, nums2):\n",
    "        min_product_sum += num1 * num2\n",
    "\n",
    "    return min_product_sum\n",
    "nums1 = [5,3,4,2]\n",
    "nums2 = [4,2,2,5]\n",
    "\n",
    "print(minProductSum(nums1, nums2))\n"
   ]
  },
  {
   "cell_type": "code",
   "execution_count": 12,
   "id": "2c3afad9",
   "metadata": {},
   "outputs": [
    {
     "data": {
      "text/plain": [
       "[]"
      ]
     },
     "execution_count": 12,
     "metadata": {},
     "output_type": "execute_result"
    }
   ],
   "source": [
    "# Question 6 Answer\n",
    "\n",
    "def findOriginalArray(changed):\n",
    "    count = {}\n",
    "    for num in changed:\n",
    "        count[num] = count.get(num, 0) + 1\n",
    "\n",
    "    original = []\n",
    "    for num in changed:\n",
    "        if count[num] == 0:\n",
    "            continue\n",
    "        if num % 2 == 0 and count.get(num // 2, 0) > 0:\n",
    "            original.extend([num // 2] * count[num])\n",
    "            count[num // 2] -= count[num]\n",
    "        else:\n",
    "            return []\n",
    "\n",
    "    return original\n",
    "\n",
    "changed1 = [1,3,4,2,6,8]\n",
    "\n",
    "findOriginalArray(changed1)"
   ]
  },
  {
   "cell_type": "code",
   "execution_count": 13,
   "id": "834ce20b",
   "metadata": {},
   "outputs": [
    {
     "name": "stdout",
     "output_type": "stream",
     "text": [
      "[[1, 2, 3], [8, 9, 4], [7, 6, 5]]\n"
     ]
    }
   ],
   "source": [
    "# Question 7 Answer\n",
    "\n",
    "def generateMatrix(n):\n",
    "    matrix = [[0] * n for _ in range(n)]\n",
    "    row_start, row_end = 0, n - 1\n",
    "    col_start, col_end = 0, n - 1\n",
    "    num = 1\n",
    "\n",
    "    while num <= n * n:\n",
    "        for i in range(col_start, col_end + 1):\n",
    "            matrix[row_start][i] = num\n",
    "            num += 1\n",
    "        row_start += 1\n",
    "\n",
    "        for i in range(row_start, row_end + 1):\n",
    "            matrix[i][col_end] = num\n",
    "            num += 1\n",
    "        col_end -= 1\n",
    "\n",
    "        if row_start <= row_end and col_start <= col_end:\n",
    "            for i in range(col_end, col_start - 1, -1):\n",
    "                matrix[row_end][i] = num\n",
    "                num += 1\n",
    "            row_end -= 1\n",
    "\n",
    "            for i in range(row_end, row_start - 1, -1):\n",
    "                matrix[i][col_start] = num\n",
    "                num += 1\n",
    "            col_start += 1\n",
    "\n",
    "    return matrix\n",
    "\n",
    "print(generateMatrix(3))\n"
   ]
  },
  {
   "cell_type": "code",
   "execution_count": 14,
   "id": "156442f8",
   "metadata": {},
   "outputs": [
    {
     "name": "stdout",
     "output_type": "stream",
     "text": [
      "[[7, 0, 0], [-7, 0, 3]]\n"
     ]
    }
   ],
   "source": [
    "# Question 8 Answer\n",
    "\n",
    "def multiply(mat1, mat2):\n",
    "    m, k = len(mat1), len(mat1[0])\n",
    "    k, n = len(mat2), len(mat2[0])\n",
    "\n",
    "    result = [[0] * n for _ in range(m)]\n",
    "\n",
    "    for i in range(m):\n",
    "        for j in range(k):\n",
    "            if mat1[i][j] != 0:\n",
    "                for col in range(n):\n",
    "                    result[i][col] += mat1[i][j] * mat2[j][col]\n",
    "\n",
    "    return result\n",
    "mat1 = [[1, 0, 0], [-1, 0, 3]]\n",
    "mat2 = [[7, 0, 0], [0, 0, 0], [0, 0, 1]]\n",
    "\n",
    "print(multiply(mat1, mat2))\n"
   ]
  }
 ],
 "metadata": {
  "kernelspec": {
   "display_name": "Python 3 (ipykernel)",
   "language": "python",
   "name": "python3"
  },
  "language_info": {
   "codemirror_mode": {
    "name": "ipython",
    "version": 3
   },
   "file_extension": ".py",
   "mimetype": "text/x-python",
   "name": "python",
   "nbconvert_exporter": "python",
   "pygments_lexer": "ipython3",
   "version": "3.9.12"
  }
 },
 "nbformat": 4,
 "nbformat_minor": 5
}

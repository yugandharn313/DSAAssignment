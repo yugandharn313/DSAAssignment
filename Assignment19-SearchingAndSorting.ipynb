{
 "cells": [
  {
   "cell_type": "code",
   "execution_count": 28,
   "id": "010c0b72",
   "metadata": {},
   "outputs": [],
   "source": [
    "# Question 1 Answer\n",
    "\n",
    "import heapq\n",
    "\n",
    "def mergeKLists(lists):\n",
    "    # Create a min heap\n",
    "    heap = []\n",
    "    \n",
    "    # Add the head nodes of each linked list to the min heap\n",
    "    for head in lists:\n",
    "        if head:\n",
    "            heapq.heappush(heap, (head.val, head))\n",
    "    \n",
    "    # Initialize a dummy node and a current pointer\n",
    "    dummy = ListNode(0)\n",
    "    current = dummy\n",
    "    \n",
    "    # Merge the linked lists\n",
    "    while heap:\n",
    "        _, node = heapq.heappop(heap)  # Pop the node with the smallest value\n",
    "        current.next = node             # Set the next pointer of the current node\n",
    "        current = current.next          # Update the current pointer\n",
    "        \n",
    "        if node.next:                   # Add the next node to the min heap if it exists\n",
    "            heapq.heappush(heap, (node.next.val, node.next))\n",
    "    \n",
    "    return dummy.next  # Return the merged sorted linked list\n"
   ]
  },
  {
   "cell_type": "code",
   "execution_count": 30,
   "id": "e5d79f4b",
   "metadata": {},
   "outputs": [],
   "source": [
    "# Question 2 Answer\n",
    "\n",
    "def countSmaller(nums):\n",
    "    def mergeSortWithCount(nums, start, end):\n",
    "        if start >= end:\n",
    "            return [nums[start]]\n",
    "\n",
    "        mid = (start + end) // 2\n",
    "        left = mergeSortWithCount(nums, start, mid)\n",
    "        right = mergeSortWithCount(nums, mid + 1, end)\n",
    "\n",
    "        sortedNums = []\n",
    "        count = 0\n",
    "        leftIdx, rightIdx = 0, 0\n",
    "\n",
    "        while leftIdx < len(left) and rightIdx < len(right):\n",
    "            if left[leftIdx] <= right[rightIdx]:\n",
    "                sortedNums.append(left[leftIdx])\n",
    "                result[left[leftIdx][1]] += count\n",
    "                leftIdx += 1\n",
    "            else:\n",
    "                sortedNums.append(right[rightIdx])\n",
    "                count += 1\n",
    "                rightIdx += 1\n",
    "\n",
    "        sortedNums.extend(left[leftIdx:])\n",
    "        sortedNums.extend(right[rightIdx:])\n",
    "        return sortedNums\n",
    "\n",
    "    result = [0] * len(nums)\n",
    "    mergeSortWithCount(list(enumerate(nums)), 0, len(nums) - 1)\n",
    "    return result\n"
   ]
  },
  {
   "cell_type": "code",
   "execution_count": 31,
   "id": "98f0349e",
   "metadata": {},
   "outputs": [
    {
     "name": "stdout",
     "output_type": "stream",
     "text": [
      "[1, 2, 3, 4, 5]\n"
     ]
    }
   ],
   "source": [
    "# Question 3 Answer\n",
    "\n",
    "def mergeSort(nums, start, end):\n",
    "    if start >= end:\n",
    "        return [nums[start]]\n",
    "\n",
    "    mid = (start + end) // 2\n",
    "    left = mergeSort(nums, start, mid)\n",
    "    right = mergeSort(nums, mid + 1, end)\n",
    "\n",
    "    sortedNums = merge(left, right)\n",
    "    return sortedNums\n",
    "\n",
    "def merge(left, right):\n",
    "    sortedNums = []\n",
    "    leftIdx, rightIdx = 0, 0\n",
    "\n",
    "    while leftIdx < len(left) and rightIdx < len(right):\n",
    "        if left[leftIdx] <= right[rightIdx]:\n",
    "            sortedNums.append(left[leftIdx])\n",
    "            leftIdx += 1\n",
    "        else:\n",
    "            sortedNums.append(right[rightIdx])\n",
    "            rightIdx += 1\n",
    "\n",
    "    sortedNums.extend(left[leftIdx:])\n",
    "    sortedNums.extend(right[rightIdx:])\n",
    "    return sortedNums\n",
    "\n",
    "def sortArray(nums):\n",
    "    return mergeSort(nums, 0, len(nums) - 1)\n",
    "nums = [5, 2, 3, 1, 4]\n",
    "sortedNums = sortArray(nums)\n",
    "print(sortedNums)\n",
    "\n",
    "\n",
    "\n"
   ]
  },
  {
   "cell_type": "code",
   "execution_count": 32,
   "id": "748f32ed",
   "metadata": {},
   "outputs": [
    {
     "name": "stdout",
     "output_type": "stream",
     "text": [
      "[1, 9, 8, 4, 2, 7, 6, 0, 0, 0, 0]\n"
     ]
    }
   ],
   "source": [
    "# Question 4 Answer\n",
    "\n",
    "def moveZeroes(nums):\n",
    "    left = 0\n",
    "    right = 0\n",
    "\n",
    "    while left < len(nums):\n",
    "        if nums[left] != 0:\n",
    "            nums[left], nums[right] = nums[right], nums[left]\n",
    "            right += 1\n",
    "        left += 1\n",
    "\n",
    "    return nums\n",
    "nums = [1, 9, 8, 4, 0, 0, 2, 7, 0, 6, 0]\n",
    "result = moveZeroes(nums)\n",
    "print(result)\n",
    "\n"
   ]
  },
  {
   "cell_type": "code",
   "execution_count": 33,
   "id": "ef0b6620",
   "metadata": {},
   "outputs": [
    {
     "name": "stdout",
     "output_type": "stream",
     "text": [
      "[1, -3, 5, -2, 6, -9, 8, 0]\n"
     ]
    }
   ],
   "source": [
    "# Question 5 Answer\n",
    "\n",
    "def alternateArrange(nums):\n",
    "    pos = 0\n",
    "    neg = 1\n",
    "\n",
    "    # Arrange positive and negative numbers alternately\n",
    "    while pos < len(nums) and neg < len(nums):\n",
    "        if nums[pos] >= 0:\n",
    "            pos += 2\n",
    "        elif nums[neg] < 0:\n",
    "            neg += 2\n",
    "        else:\n",
    "            nums[pos], nums[neg] = nums[neg], nums[pos]\n",
    "            pos += 2\n",
    "            neg += 2\n",
    "\n",
    "    # Place remaining positive or negative numbers\n",
    "    for i in range(pos, len(nums)):\n",
    "        if nums[i] >= 0:\n",
    "            nums[i], nums[pos] = nums[pos], nums[i]\n",
    "            pos += 2\n",
    "        else:\n",
    "            break\n",
    "\n",
    "    for i in range(neg, len(nums)):\n",
    "        if nums[i] < 0:\n",
    "            nums[i], nums[neg] = nums[neg], nums[i]\n",
    "            neg += 2\n",
    "        else:\n",
    "            break\n",
    "\n",
    "    return nums\n",
    "nums = [1, -3, 5, 6, -2, 8, -9, 0]\n",
    "result = alternateArrange(nums)\n",
    "print(result)\n",
    "\n",
    "\n"
   ]
  },
  {
   "cell_type": "code",
   "execution_count": 34,
   "id": "e1be8630",
   "metadata": {},
   "outputs": [
    {
     "name": "stdout",
     "output_type": "stream",
     "text": [
      "[1, 2, 3, 4, 5, 6, 7, 8]\n"
     ]
    }
   ],
   "source": [
    "# Question 6 Answer\n",
    "\n",
    "def mergeSortedArrays(nums1, nums2):\n",
    "    m = len(nums1)\n",
    "    n = len(nums2)\n",
    "    merged = [0] * (m + n)\n",
    "    p1 = 0\n",
    "    p2 = 0\n",
    "    p = 0\n",
    "\n",
    "    while p1 < m and p2 < n:\n",
    "        if nums1[p1] <= nums2[p2]:\n",
    "            merged[p] = nums1[p1]\n",
    "            p1 += 1\n",
    "        else:\n",
    "            merged[p] = nums2[p2]\n",
    "            p2 += 1\n",
    "        p += 1\n",
    "\n",
    "    while p1 < m:\n",
    "        merged[p] = nums1[p1]\n",
    "        p1 += 1\n",
    "        p += 1\n",
    "\n",
    "    while p2 < n:\n",
    "        merged[p] = nums2[p2]\n",
    "        p2 += 1\n",
    "        p += 1\n",
    "\n",
    "    return merged\n",
    "nums1 = [1, 3, 5, 7]\n",
    "nums2 = [2, 4, 6, 8]\n",
    "result = mergeSortedArrays(nums1, nums2)\n",
    "print(result)\n"
   ]
  },
  {
   "cell_type": "code",
   "execution_count": 35,
   "id": "111dfdbc",
   "metadata": {},
   "outputs": [
    {
     "name": "stdout",
     "output_type": "stream",
     "text": [
      "[2]\n"
     ]
    }
   ],
   "source": [
    "# Question 7 Answer\n",
    "\n",
    "def intersection(nums1, nums2):\n",
    "    numsSet = set(nums1)\n",
    "    intersection = []\n",
    "\n",
    "    for num in nums2:\n",
    "        if num in numsSet:\n",
    "            intersection.append(num)\n",
    "            numsSet.remove(num)\n",
    "\n",
    "    return intersection\n",
    "nums1 = [1, 2, 2, 1]\n",
    "nums2 = [2, 2, 3]\n",
    "result = intersection(nums1, nums2)\n",
    "print(result)\n",
    "\n",
    "\n"
   ]
  },
  {
   "cell_type": "code",
   "execution_count": 36,
   "id": "c1de129e",
   "metadata": {},
   "outputs": [
    {
     "name": "stdout",
     "output_type": "stream",
     "text": [
      "[2, 2]\n"
     ]
    }
   ],
   "source": [
    "# Question 8 Answer\n",
    "\n",
    "from collections import Counter\n",
    "\n",
    "def intersect(nums1, nums2):\n",
    "    freqMap = Counter(nums1)\n",
    "    intersection = []\n",
    "\n",
    "    for num in nums2:\n",
    "        if num in freqMap and freqMap[num] > 0:\n",
    "            intersection.append(num)\n",
    "            freqMap[num] -= 1\n",
    "\n",
    "    return intersection\n",
    "nums1 = [1, 2, 2, 1]\n",
    "nums2 = [2, 2, 3]\n",
    "result = intersect(nums1, nums2)\n",
    "print(result)\n",
    "\n",
    "\n"
   ]
  }
 ],
 "metadata": {
  "kernelspec": {
   "display_name": "Python 3 (ipykernel)",
   "language": "python",
   "name": "python3"
  },
  "language_info": {
   "codemirror_mode": {
    "name": "ipython",
    "version": 3
   },
   "file_extension": ".py",
   "mimetype": "text/x-python",
   "name": "python",
   "nbconvert_exporter": "python",
   "pygments_lexer": "ipython3",
   "version": "3.9.12"
  }
 },
 "nbformat": 4,
 "nbformat_minor": 5
}

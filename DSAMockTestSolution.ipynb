{
 "cells": [
  {
   "cell_type": "code",
   "execution_count": 3,
   "id": "84369f9c",
   "metadata": {},
   "outputs": [],
   "source": [
    "\n",
    "class ListNode:\n",
    "    def __init__(self, val=0, next=None):\n",
    "        self.val = val\n",
    "        self.next = next\n",
    "\n",
    "\n",
    "def addTwoNumbers(l1, l2):\n",
    "    dummy = ListNode(0)  # Dummy node to hold the result\n",
    "    curr = dummy  # Pointer to the current node of the result linked list\n",
    "    carry = 0  # Variable to store the carry\n",
    "\n",
    "    while l1 or l2 or carry:\n",
    "        # Get the values of the current nodes (or 0 if the list is exhausted)\n",
    "        val1 = l1.val if l1 else 0\n",
    "        val2 = l2.val if l2 else 0\n",
    "\n",
    "        # Calculate the sum of the current digits and carry\n",
    "        total = val1 + val2 + carry\n",
    "\n",
    "        # Calculate the new carry\n",
    "        carry = total // 10\n",
    "\n",
    "        # Create a new node with the digit at one's place\n",
    "        curr.next = ListNode(total % 10)\n",
    "\n",
    "        # Move to the next nodes in both linked lists\n",
    "        curr = curr.next\n",
    "        l1 = l1.next if l1 else None\n",
    "        l2 = l2.next if l2 else None\n",
    "\n",
    "    return dummy.next  # Return the next node after the dummy node"
   ]
  },
  {
   "cell_type": "code",
   "execution_count": null,
   "id": "75571e11",
   "metadata": {},
   "outputs": [],
   "source": []
  },
  {
   "cell_type": "code",
   "execution_count": null,
   "id": "44b0c669",
   "metadata": {},
   "outputs": [],
   "source": []
  }
 ],
 "metadata": {
  "kernelspec": {
   "display_name": "Python 3 (ipykernel)",
   "language": "python",
   "name": "python3"
  },
  "language_info": {
   "codemirror_mode": {
    "name": "ipython",
    "version": 3
   },
   "file_extension": ".py",
   "mimetype": "text/x-python",
   "name": "python",
   "nbconvert_exporter": "python",
   "pygments_lexer": "ipython3",
   "version": "3.9.12"
  }
 },
 "nbformat": 4,
 "nbformat_minor": 5
}
